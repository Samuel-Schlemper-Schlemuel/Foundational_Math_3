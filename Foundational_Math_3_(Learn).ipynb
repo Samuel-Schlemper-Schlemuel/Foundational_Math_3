{
  "nbformat": 4,
  "nbformat_minor": 0,
  "metadata": {
    "colab": {
      "provenance": [],
      "collapsed_sections": [
        "szp5flp1fA8-",
        "KDloBuvnHQTS",
        "r1AM-AcqkbyF",
        "8wXbGsoYkm60",
        "tBxuJtHck2Oo",
        "s3z_zaNWlet8",
        "lnP9BOpPlhdK",
        "yoavB8H_ljVn",
        "MlRfYVIylkQf",
        "NGH1FcttllvS",
        "Sx0kwIdalmmY",
        "S-DVSzwDvKvE",
        "H6LTAPYplxvi",
        "iaEBltZXln-Q",
        "l5GwlqRdlpEu",
        "8vdTo36Pl0yv",
        "U_7bv7aG4UJe",
        "B7DOz9nh4XAb",
        "cqvLtj7t4VMN",
        "d7Lc9KfMYU8Y",
        "VkD30ljxlyw9",
        "bJzxcKIfz8Qt",
        "rzaQj8dEOfzb",
        "UptjjiCOTSS2",
        "CRa5i8s3UCuL"
      ],
      "include_colab_link": true
    },
    "kernelspec": {
      "name": "python3",
      "display_name": "Python 3"
    },
    "language_info": {
      "name": "python"
    },
    "widgets": {
      "application/vnd.jupyter.widget-state+json": {
        "94e345907b124503b7c6b315fdf04def": {
          "model_module": "@jupyter-widgets/controls",
          "model_name": "VBoxModel",
          "model_module_version": "1.5.0",
          "state": {
            "_dom_classes": [
              "widget-interact"
            ],
            "_model_module": "@jupyter-widgets/controls",
            "_model_module_version": "1.5.0",
            "_model_name": "VBoxModel",
            "_view_count": null,
            "_view_module": "@jupyter-widgets/controls",
            "_view_module_version": "1.5.0",
            "_view_name": "VBoxView",
            "box_style": "",
            "children": [
              "IPY_MODEL_0df6b625e87f4425a9a63d72c65dfa7e",
              "IPY_MODEL_af751861ee6c4674b9ceb0af6cad1916",
              "IPY_MODEL_fe938d31303645579168770880179390",
              "IPY_MODEL_326fed0a18614ab2a9aba80941ae90b2"
            ],
            "layout": "IPY_MODEL_7c1eb1d1ed424b54aa922cb1692bf359"
          }
        },
        "0df6b625e87f4425a9a63d72c65dfa7e": {
          "model_module": "@jupyter-widgets/controls",
          "model_name": "IntSliderModel",
          "model_module_version": "1.5.0",
          "state": {
            "_dom_classes": [],
            "_model_module": "@jupyter-widgets/controls",
            "_model_module_version": "1.5.0",
            "_model_name": "IntSliderModel",
            "_view_count": null,
            "_view_module": "@jupyter-widgets/controls",
            "_view_module_version": "1.5.0",
            "_view_name": "IntSliderView",
            "continuous_update": true,
            "description": "a",
            "description_tooltip": null,
            "disabled": false,
            "layout": "IPY_MODEL_0fa8757cfb8f4089b9ff40d839e78445",
            "max": 9,
            "min": -9,
            "orientation": "horizontal",
            "readout": true,
            "readout_format": "d",
            "step": 1,
            "style": "IPY_MODEL_1d16d3ad2ce44f87b5a9a5be431391f8",
            "value": -1
          }
        },
        "af751861ee6c4674b9ceb0af6cad1916": {
          "model_module": "@jupyter-widgets/controls",
          "model_name": "IntSliderModel",
          "model_module_version": "1.5.0",
          "state": {
            "_dom_classes": [],
            "_model_module": "@jupyter-widgets/controls",
            "_model_module_version": "1.5.0",
            "_model_name": "IntSliderModel",
            "_view_count": null,
            "_view_module": "@jupyter-widgets/controls",
            "_view_module_version": "1.5.0",
            "_view_name": "IntSliderView",
            "continuous_update": true,
            "description": "b",
            "description_tooltip": null,
            "disabled": false,
            "layout": "IPY_MODEL_9edef178a4784096bd7591b614cdc61e",
            "max": 9,
            "min": -9,
            "orientation": "horizontal",
            "readout": true,
            "readout_format": "d",
            "step": 1,
            "style": "IPY_MODEL_bb6981833bff4ac68bb76cfb1c58819e",
            "value": -4
          }
        },
        "fe938d31303645579168770880179390": {
          "model_module": "@jupyter-widgets/controls",
          "model_name": "IntSliderModel",
          "model_module_version": "1.5.0",
          "state": {
            "_dom_classes": [],
            "_model_module": "@jupyter-widgets/controls",
            "_model_module_version": "1.5.0",
            "_model_name": "IntSliderModel",
            "_view_count": null,
            "_view_module": "@jupyter-widgets/controls",
            "_view_module_version": "1.5.0",
            "_view_name": "IntSliderView",
            "continuous_update": true,
            "description": "c",
            "description_tooltip": null,
            "disabled": false,
            "layout": "IPY_MODEL_5a2cb5d8fd9a42058891206ee17c3449",
            "max": 9,
            "min": -9,
            "orientation": "horizontal",
            "readout": true,
            "readout_format": "d",
            "step": 1,
            "style": "IPY_MODEL_8e6f5aeeaa6a4837b18183eecd867585",
            "value": 3
          }
        },
        "326fed0a18614ab2a9aba80941ae90b2": {
          "model_module": "@jupyter-widgets/output",
          "model_name": "OutputModel",
          "model_module_version": "1.0.0",
          "state": {
            "_dom_classes": [],
            "_model_module": "@jupyter-widgets/output",
            "_model_module_version": "1.0.0",
            "_model_name": "OutputModel",
            "_view_count": null,
            "_view_module": "@jupyter-widgets/output",
            "_view_module_version": "1.0.0",
            "_view_name": "OutputView",
            "layout": "IPY_MODEL_1fa5d70342814cb586b9e1b4e61b52cb",
            "msg_id": "",
            "outputs": [
              {
                "output_type": "display_data",
                "data": {
                  "text/plain": "<Figure size 640x480 with 1 Axes>",
                  "image/png": "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\n"
                },
                "metadata": {}
              }
            ]
          }
        },
        "7c1eb1d1ed424b54aa922cb1692bf359": {
          "model_module": "@jupyter-widgets/base",
          "model_name": "LayoutModel",
          "model_module_version": "1.2.0",
          "state": {
            "_model_module": "@jupyter-widgets/base",
            "_model_module_version": "1.2.0",
            "_model_name": "LayoutModel",
            "_view_count": null,
            "_view_module": "@jupyter-widgets/base",
            "_view_module_version": "1.2.0",
            "_view_name": "LayoutView",
            "align_content": null,
            "align_items": null,
            "align_self": null,
            "border": null,
            "bottom": null,
            "display": null,
            "flex": null,
            "flex_flow": null,
            "grid_area": null,
            "grid_auto_columns": null,
            "grid_auto_flow": null,
            "grid_auto_rows": null,
            "grid_column": null,
            "grid_gap": null,
            "grid_row": null,
            "grid_template_areas": null,
            "grid_template_columns": null,
            "grid_template_rows": null,
            "height": null,
            "justify_content": null,
            "justify_items": null,
            "left": null,
            "margin": null,
            "max_height": null,
            "max_width": null,
            "min_height": null,
            "min_width": null,
            "object_fit": null,
            "object_position": null,
            "order": null,
            "overflow": null,
            "overflow_x": null,
            "overflow_y": null,
            "padding": null,
            "right": null,
            "top": null,
            "visibility": null,
            "width": null
          }
        },
        "0fa8757cfb8f4089b9ff40d839e78445": {
          "model_module": "@jupyter-widgets/base",
          "model_name": "LayoutModel",
          "model_module_version": "1.2.0",
          "state": {
            "_model_module": "@jupyter-widgets/base",
            "_model_module_version": "1.2.0",
            "_model_name": "LayoutModel",
            "_view_count": null,
            "_view_module": "@jupyter-widgets/base",
            "_view_module_version": "1.2.0",
            "_view_name": "LayoutView",
            "align_content": null,
            "align_items": null,
            "align_self": null,
            "border": null,
            "bottom": null,
            "display": null,
            "flex": null,
            "flex_flow": null,
            "grid_area": null,
            "grid_auto_columns": null,
            "grid_auto_flow": null,
            "grid_auto_rows": null,
            "grid_column": null,
            "grid_gap": null,
            "grid_row": null,
            "grid_template_areas": null,
            "grid_template_columns": null,
            "grid_template_rows": null,
            "height": null,
            "justify_content": null,
            "justify_items": null,
            "left": null,
            "margin": null,
            "max_height": null,
            "max_width": null,
            "min_height": null,
            "min_width": null,
            "object_fit": null,
            "object_position": null,
            "order": null,
            "overflow": null,
            "overflow_x": null,
            "overflow_y": null,
            "padding": null,
            "right": null,
            "top": null,
            "visibility": null,
            "width": null
          }
        },
        "1d16d3ad2ce44f87b5a9a5be431391f8": {
          "model_module": "@jupyter-widgets/controls",
          "model_name": "SliderStyleModel",
          "model_module_version": "1.5.0",
          "state": {
            "_model_module": "@jupyter-widgets/controls",
            "_model_module_version": "1.5.0",
            "_model_name": "SliderStyleModel",
            "_view_count": null,
            "_view_module": "@jupyter-widgets/base",
            "_view_module_version": "1.2.0",
            "_view_name": "StyleView",
            "description_width": "",
            "handle_color": null
          }
        },
        "9edef178a4784096bd7591b614cdc61e": {
          "model_module": "@jupyter-widgets/base",
          "model_name": "LayoutModel",
          "model_module_version": "1.2.0",
          "state": {
            "_model_module": "@jupyter-widgets/base",
            "_model_module_version": "1.2.0",
            "_model_name": "LayoutModel",
            "_view_count": null,
            "_view_module": "@jupyter-widgets/base",
            "_view_module_version": "1.2.0",
            "_view_name": "LayoutView",
            "align_content": null,
            "align_items": null,
            "align_self": null,
            "border": null,
            "bottom": null,
            "display": null,
            "flex": null,
            "flex_flow": null,
            "grid_area": null,
            "grid_auto_columns": null,
            "grid_auto_flow": null,
            "grid_auto_rows": null,
            "grid_column": null,
            "grid_gap": null,
            "grid_row": null,
            "grid_template_areas": null,
            "grid_template_columns": null,
            "grid_template_rows": null,
            "height": null,
            "justify_content": null,
            "justify_items": null,
            "left": null,
            "margin": null,
            "max_height": null,
            "max_width": null,
            "min_height": null,
            "min_width": null,
            "object_fit": null,
            "object_position": null,
            "order": null,
            "overflow": null,
            "overflow_x": null,
            "overflow_y": null,
            "padding": null,
            "right": null,
            "top": null,
            "visibility": null,
            "width": null
          }
        },
        "bb6981833bff4ac68bb76cfb1c58819e": {
          "model_module": "@jupyter-widgets/controls",
          "model_name": "SliderStyleModel",
          "model_module_version": "1.5.0",
          "state": {
            "_model_module": "@jupyter-widgets/controls",
            "_model_module_version": "1.5.0",
            "_model_name": "SliderStyleModel",
            "_view_count": null,
            "_view_module": "@jupyter-widgets/base",
            "_view_module_version": "1.2.0",
            "_view_name": "StyleView",
            "description_width": "",
            "handle_color": null
          }
        },
        "5a2cb5d8fd9a42058891206ee17c3449": {
          "model_module": "@jupyter-widgets/base",
          "model_name": "LayoutModel",
          "model_module_version": "1.2.0",
          "state": {
            "_model_module": "@jupyter-widgets/base",
            "_model_module_version": "1.2.0",
            "_model_name": "LayoutModel",
            "_view_count": null,
            "_view_module": "@jupyter-widgets/base",
            "_view_module_version": "1.2.0",
            "_view_name": "LayoutView",
            "align_content": null,
            "align_items": null,
            "align_self": null,
            "border": null,
            "bottom": null,
            "display": null,
            "flex": null,
            "flex_flow": null,
            "grid_area": null,
            "grid_auto_columns": null,
            "grid_auto_flow": null,
            "grid_auto_rows": null,
            "grid_column": null,
            "grid_gap": null,
            "grid_row": null,
            "grid_template_areas": null,
            "grid_template_columns": null,
            "grid_template_rows": null,
            "height": null,
            "justify_content": null,
            "justify_items": null,
            "left": null,
            "margin": null,
            "max_height": null,
            "max_width": null,
            "min_height": null,
            "min_width": null,
            "object_fit": null,
            "object_position": null,
            "order": null,
            "overflow": null,
            "overflow_x": null,
            "overflow_y": null,
            "padding": null,
            "right": null,
            "top": null,
            "visibility": null,
            "width": null
          }
        },
        "8e6f5aeeaa6a4837b18183eecd867585": {
          "model_module": "@jupyter-widgets/controls",
          "model_name": "SliderStyleModel",
          "model_module_version": "1.5.0",
          "state": {
            "_model_module": "@jupyter-widgets/controls",
            "_model_module_version": "1.5.0",
            "_model_name": "SliderStyleModel",
            "_view_count": null,
            "_view_module": "@jupyter-widgets/base",
            "_view_module_version": "1.2.0",
            "_view_name": "StyleView",
            "description_width": "",
            "handle_color": null
          }
        },
        "1fa5d70342814cb586b9e1b4e61b52cb": {
          "model_module": "@jupyter-widgets/base",
          "model_name": "LayoutModel",
          "model_module_version": "1.2.0",
          "state": {
            "_model_module": "@jupyter-widgets/base",
            "_model_module_version": "1.2.0",
            "_model_name": "LayoutModel",
            "_view_count": null,
            "_view_module": "@jupyter-widgets/base",
            "_view_module_version": "1.2.0",
            "_view_name": "LayoutView",
            "align_content": null,
            "align_items": null,
            "align_self": null,
            "border": null,
            "bottom": null,
            "display": null,
            "flex": null,
            "flex_flow": null,
            "grid_area": null,
            "grid_auto_columns": null,
            "grid_auto_flow": null,
            "grid_auto_rows": null,
            "grid_column": null,
            "grid_gap": null,
            "grid_row": null,
            "grid_template_areas": null,
            "grid_template_columns": null,
            "grid_template_rows": null,
            "height": null,
            "justify_content": null,
            "justify_items": null,
            "left": null,
            "margin": null,
            "max_height": null,
            "max_width": null,
            "min_height": null,
            "min_width": null,
            "object_fit": null,
            "object_position": null,
            "order": null,
            "overflow": null,
            "overflow_x": null,
            "overflow_y": null,
            "padding": null,
            "right": null,
            "top": null,
            "visibility": null,
            "width": null
          }
        },
        "dda00d539488483ab25b28b03838126c": {
          "model_module": "@jupyter-widgets/controls",
          "model_name": "VBoxModel",
          "model_module_version": "1.5.0",
          "state": {
            "_dom_classes": [
              "widget-interact"
            ],
            "_model_module": "@jupyter-widgets/controls",
            "_model_module_version": "1.5.0",
            "_model_name": "VBoxModel",
            "_view_count": null,
            "_view_module": "@jupyter-widgets/controls",
            "_view_module_version": "1.5.0",
            "_view_name": "VBoxView",
            "box_style": "",
            "children": [
              "IPY_MODEL_cf5b7ed3ceb34d0c9b14d88e87d15d4e",
              "IPY_MODEL_b0fd5ff89eed4568afa84a70689d8121",
              "IPY_MODEL_ea433a11bc4d41f9a09304539731dda4"
            ],
            "layout": "IPY_MODEL_a368e006a6d049b69edc5694387b126a"
          }
        },
        "cf5b7ed3ceb34d0c9b14d88e87d15d4e": {
          "model_module": "@jupyter-widgets/controls",
          "model_name": "IntSliderModel",
          "model_module_version": "1.5.0",
          "state": {
            "_dom_classes": [],
            "_model_module": "@jupyter-widgets/controls",
            "_model_module_version": "1.5.0",
            "_model_name": "IntSliderModel",
            "_view_count": null,
            "_view_module": "@jupyter-widgets/controls",
            "_view_module_version": "1.5.0",
            "_view_name": "IntSliderView",
            "continuous_update": true,
            "description": "a",
            "description_tooltip": null,
            "disabled": false,
            "layout": "IPY_MODEL_0d9c7cd55d2b48f3a46ab5e4e889aa55",
            "max": -1,
            "min": -9,
            "orientation": "horizontal",
            "readout": true,
            "readout_format": "d",
            "step": 1,
            "style": "IPY_MODEL_fd438ff1faf14bf49338ef59c92de552",
            "value": -9
          }
        },
        "b0fd5ff89eed4568afa84a70689d8121": {
          "model_module": "@jupyter-widgets/controls",
          "model_name": "IntSliderModel",
          "model_module_version": "1.5.0",
          "state": {
            "_dom_classes": [],
            "_model_module": "@jupyter-widgets/controls",
            "_model_module_version": "1.5.0",
            "_model_name": "IntSliderModel",
            "_view_count": null,
            "_view_module": "@jupyter-widgets/controls",
            "_view_module_version": "1.5.0",
            "_view_name": "IntSliderView",
            "continuous_update": true,
            "description": "b",
            "description_tooltip": null,
            "disabled": false,
            "layout": "IPY_MODEL_83dd516ad80c44e997736bf85e7f3574",
            "max": 9,
            "min": 1,
            "orientation": "horizontal",
            "readout": true,
            "readout_format": "d",
            "step": 1,
            "style": "IPY_MODEL_809b4f72902746719544ac3c595f5ab6",
            "value": 5
          }
        },
        "ea433a11bc4d41f9a09304539731dda4": {
          "model_module": "@jupyter-widgets/output",
          "model_name": "OutputModel",
          "model_module_version": "1.0.0",
          "state": {
            "_dom_classes": [],
            "_model_module": "@jupyter-widgets/output",
            "_model_module_version": "1.0.0",
            "_model_name": "OutputModel",
            "_view_count": null,
            "_view_module": "@jupyter-widgets/output",
            "_view_module_version": "1.0.0",
            "_view_name": "OutputView",
            "layout": "IPY_MODEL_e8ee8d0d141e466eb26cd252910cbb5c",
            "msg_id": "",
            "outputs": [
              {
                "output_type": "display_data",
                "data": {
                  "text/plain": "<Figure size 640x480 with 1 Axes>",
                  "image/png": "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\n"
                },
                "metadata": {}
              }
            ]
          }
        },
        "a368e006a6d049b69edc5694387b126a": {
          "model_module": "@jupyter-widgets/base",
          "model_name": "LayoutModel",
          "model_module_version": "1.2.0",
          "state": {
            "_model_module": "@jupyter-widgets/base",
            "_model_module_version": "1.2.0",
            "_model_name": "LayoutModel",
            "_view_count": null,
            "_view_module": "@jupyter-widgets/base",
            "_view_module_version": "1.2.0",
            "_view_name": "LayoutView",
            "align_content": null,
            "align_items": null,
            "align_self": null,
            "border": null,
            "bottom": null,
            "display": null,
            "flex": null,
            "flex_flow": null,
            "grid_area": null,
            "grid_auto_columns": null,
            "grid_auto_flow": null,
            "grid_auto_rows": null,
            "grid_column": null,
            "grid_gap": null,
            "grid_row": null,
            "grid_template_areas": null,
            "grid_template_columns": null,
            "grid_template_rows": null,
            "height": null,
            "justify_content": null,
            "justify_items": null,
            "left": null,
            "margin": null,
            "max_height": null,
            "max_width": null,
            "min_height": null,
            "min_width": null,
            "object_fit": null,
            "object_position": null,
            "order": null,
            "overflow": null,
            "overflow_x": null,
            "overflow_y": null,
            "padding": null,
            "right": null,
            "top": null,
            "visibility": null,
            "width": null
          }
        },
        "0d9c7cd55d2b48f3a46ab5e4e889aa55": {
          "model_module": "@jupyter-widgets/base",
          "model_name": "LayoutModel",
          "model_module_version": "1.2.0",
          "state": {
            "_model_module": "@jupyter-widgets/base",
            "_model_module_version": "1.2.0",
            "_model_name": "LayoutModel",
            "_view_count": null,
            "_view_module": "@jupyter-widgets/base",
            "_view_module_version": "1.2.0",
            "_view_name": "LayoutView",
            "align_content": null,
            "align_items": null,
            "align_self": null,
            "border": null,
            "bottom": null,
            "display": null,
            "flex": null,
            "flex_flow": null,
            "grid_area": null,
            "grid_auto_columns": null,
            "grid_auto_flow": null,
            "grid_auto_rows": null,
            "grid_column": null,
            "grid_gap": null,
            "grid_row": null,
            "grid_template_areas": null,
            "grid_template_columns": null,
            "grid_template_rows": null,
            "height": null,
            "justify_content": null,
            "justify_items": null,
            "left": null,
            "margin": null,
            "max_height": null,
            "max_width": null,
            "min_height": null,
            "min_width": null,
            "object_fit": null,
            "object_position": null,
            "order": null,
            "overflow": null,
            "overflow_x": null,
            "overflow_y": null,
            "padding": null,
            "right": null,
            "top": null,
            "visibility": null,
            "width": null
          }
        },
        "fd438ff1faf14bf49338ef59c92de552": {
          "model_module": "@jupyter-widgets/controls",
          "model_name": "SliderStyleModel",
          "model_module_version": "1.5.0",
          "state": {
            "_model_module": "@jupyter-widgets/controls",
            "_model_module_version": "1.5.0",
            "_model_name": "SliderStyleModel",
            "_view_count": null,
            "_view_module": "@jupyter-widgets/base",
            "_view_module_version": "1.2.0",
            "_view_name": "StyleView",
            "description_width": "",
            "handle_color": null
          }
        },
        "83dd516ad80c44e997736bf85e7f3574": {
          "model_module": "@jupyter-widgets/base",
          "model_name": "LayoutModel",
          "model_module_version": "1.2.0",
          "state": {
            "_model_module": "@jupyter-widgets/base",
            "_model_module_version": "1.2.0",
            "_model_name": "LayoutModel",
            "_view_count": null,
            "_view_module": "@jupyter-widgets/base",
            "_view_module_version": "1.2.0",
            "_view_name": "LayoutView",
            "align_content": null,
            "align_items": null,
            "align_self": null,
            "border": null,
            "bottom": null,
            "display": null,
            "flex": null,
            "flex_flow": null,
            "grid_area": null,
            "grid_auto_columns": null,
            "grid_auto_flow": null,
            "grid_auto_rows": null,
            "grid_column": null,
            "grid_gap": null,
            "grid_row": null,
            "grid_template_areas": null,
            "grid_template_columns": null,
            "grid_template_rows": null,
            "height": null,
            "justify_content": null,
            "justify_items": null,
            "left": null,
            "margin": null,
            "max_height": null,
            "max_width": null,
            "min_height": null,
            "min_width": null,
            "object_fit": null,
            "object_position": null,
            "order": null,
            "overflow": null,
            "overflow_x": null,
            "overflow_y": null,
            "padding": null,
            "right": null,
            "top": null,
            "visibility": null,
            "width": null
          }
        },
        "809b4f72902746719544ac3c595f5ab6": {
          "model_module": "@jupyter-widgets/controls",
          "model_name": "SliderStyleModel",
          "model_module_version": "1.5.0",
          "state": {
            "_model_module": "@jupyter-widgets/controls",
            "_model_module_version": "1.5.0",
            "_model_name": "SliderStyleModel",
            "_view_count": null,
            "_view_module": "@jupyter-widgets/base",
            "_view_module_version": "1.2.0",
            "_view_name": "StyleView",
            "description_width": "",
            "handle_color": null
          }
        },
        "e8ee8d0d141e466eb26cd252910cbb5c": {
          "model_module": "@jupyter-widgets/base",
          "model_name": "LayoutModel",
          "model_module_version": "1.2.0",
          "state": {
            "_model_module": "@jupyter-widgets/base",
            "_model_module_version": "1.2.0",
            "_model_name": "LayoutModel",
            "_view_count": null,
            "_view_module": "@jupyter-widgets/base",
            "_view_module_version": "1.2.0",
            "_view_name": "LayoutView",
            "align_content": null,
            "align_items": null,
            "align_self": null,
            "border": null,
            "bottom": null,
            "display": null,
            "flex": null,
            "flex_flow": null,
            "grid_area": null,
            "grid_auto_columns": null,
            "grid_auto_flow": null,
            "grid_auto_rows": null,
            "grid_column": null,
            "grid_gap": null,
            "grid_row": null,
            "grid_template_areas": null,
            "grid_template_columns": null,
            "grid_template_rows": null,
            "height": null,
            "justify_content": null,
            "justify_items": null,
            "left": null,
            "margin": null,
            "max_height": null,
            "max_width": null,
            "min_height": null,
            "min_width": null,
            "object_fit": null,
            "object_position": null,
            "order": null,
            "overflow": null,
            "overflow_x": null,
            "overflow_y": null,
            "padding": null,
            "right": null,
            "top": null,
            "visibility": null,
            "width": null
          }
        },
        "9b1c64e37cfe4aa3889800f686dc2423": {
          "model_module": "@jupyter-widgets/controls",
          "model_name": "VBoxModel",
          "model_module_version": "1.5.0",
          "state": {
            "_dom_classes": [
              "widget-interact"
            ],
            "_model_module": "@jupyter-widgets/controls",
            "_model_module_version": "1.5.0",
            "_model_name": "VBoxModel",
            "_view_count": null,
            "_view_module": "@jupyter-widgets/controls",
            "_view_module_version": "1.5.0",
            "_view_name": "VBoxView",
            "box_style": "",
            "children": [
              "IPY_MODEL_851de234b0f04aa490dec693900586d0",
              "IPY_MODEL_c978118d82bb409bad9f479ccc0580bb"
            ],
            "layout": "IPY_MODEL_00f6ebe68d9245578f5897a161524231"
          }
        },
        "851de234b0f04aa490dec693900586d0": {
          "model_module": "@jupyter-widgets/controls",
          "model_name": "IntSliderModel",
          "model_module_version": "1.5.0",
          "state": {
            "_dom_classes": [],
            "_model_module": "@jupyter-widgets/controls",
            "_model_module_version": "1.5.0",
            "_model_name": "IntSliderModel",
            "_view_count": null,
            "_view_module": "@jupyter-widgets/controls",
            "_view_module_version": "1.5.0",
            "_view_name": "IntSliderView",
            "continuous_update": true,
            "description": "quantity",
            "description_tooltip": null,
            "disabled": false,
            "layout": "IPY_MODEL_580fe4658471479abd3ac9e6a70bb467",
            "max": 9,
            "min": 3,
            "orientation": "horizontal",
            "readout": true,
            "readout_format": "d",
            "step": 1,
            "style": "IPY_MODEL_71ece85862534986bdb7481e7928a77a",
            "value": 4
          }
        },
        "c978118d82bb409bad9f479ccc0580bb": {
          "model_module": "@jupyter-widgets/output",
          "model_name": "OutputModel",
          "model_module_version": "1.0.0",
          "state": {
            "_dom_classes": [],
            "_model_module": "@jupyter-widgets/output",
            "_model_module_version": "1.0.0",
            "_model_name": "OutputModel",
            "_view_count": null,
            "_view_module": "@jupyter-widgets/output",
            "_view_module_version": "1.0.0",
            "_view_name": "OutputView",
            "layout": "IPY_MODEL_1b6cf2c462af43a186fb03574d5d6935",
            "msg_id": "",
            "outputs": [
              {
                "output_type": "display_data",
                "data": {
                  "text/plain": "interactive(children=(IntSlider(value=0, description='coef_0', max=10, min=-10), IntSlider(value=0, descriptio…",
                  "application/vnd.jupyter.widget-view+json": {
                    "version_major": 2,
                    "version_minor": 0,
                    "model_id": "1aecf7c4ec6642e8aba263fc0d6a4ef7"
                  }
                },
                "metadata": {}
              }
            ]
          }
        },
        "00f6ebe68d9245578f5897a161524231": {
          "model_module": "@jupyter-widgets/base",
          "model_name": "LayoutModel",
          "model_module_version": "1.2.0",
          "state": {
            "_model_module": "@jupyter-widgets/base",
            "_model_module_version": "1.2.0",
            "_model_name": "LayoutModel",
            "_view_count": null,
            "_view_module": "@jupyter-widgets/base",
            "_view_module_version": "1.2.0",
            "_view_name": "LayoutView",
            "align_content": null,
            "align_items": null,
            "align_self": null,
            "border": null,
            "bottom": null,
            "display": null,
            "flex": null,
            "flex_flow": null,
            "grid_area": null,
            "grid_auto_columns": null,
            "grid_auto_flow": null,
            "grid_auto_rows": null,
            "grid_column": null,
            "grid_gap": null,
            "grid_row": null,
            "grid_template_areas": null,
            "grid_template_columns": null,
            "grid_template_rows": null,
            "height": null,
            "justify_content": null,
            "justify_items": null,
            "left": null,
            "margin": null,
            "max_height": null,
            "max_width": null,
            "min_height": null,
            "min_width": null,
            "object_fit": null,
            "object_position": null,
            "order": null,
            "overflow": null,
            "overflow_x": null,
            "overflow_y": null,
            "padding": null,
            "right": null,
            "top": null,
            "visibility": null,
            "width": null
          }
        },
        "580fe4658471479abd3ac9e6a70bb467": {
          "model_module": "@jupyter-widgets/base",
          "model_name": "LayoutModel",
          "model_module_version": "1.2.0",
          "state": {
            "_model_module": "@jupyter-widgets/base",
            "_model_module_version": "1.2.0",
            "_model_name": "LayoutModel",
            "_view_count": null,
            "_view_module": "@jupyter-widgets/base",
            "_view_module_version": "1.2.0",
            "_view_name": "LayoutView",
            "align_content": null,
            "align_items": null,
            "align_self": null,
            "border": null,
            "bottom": null,
            "display": null,
            "flex": null,
            "flex_flow": null,
            "grid_area": null,
            "grid_auto_columns": null,
            "grid_auto_flow": null,
            "grid_auto_rows": null,
            "grid_column": null,
            "grid_gap": null,
            "grid_row": null,
            "grid_template_areas": null,
            "grid_template_columns": null,
            "grid_template_rows": null,
            "height": null,
            "justify_content": null,
            "justify_items": null,
            "left": null,
            "margin": null,
            "max_height": null,
            "max_width": null,
            "min_height": null,
            "min_width": null,
            "object_fit": null,
            "object_position": null,
            "order": null,
            "overflow": null,
            "overflow_x": null,
            "overflow_y": null,
            "padding": null,
            "right": null,
            "top": null,
            "visibility": null,
            "width": null
          }
        },
        "71ece85862534986bdb7481e7928a77a": {
          "model_module": "@jupyter-widgets/controls",
          "model_name": "SliderStyleModel",
          "model_module_version": "1.5.0",
          "state": {
            "_model_module": "@jupyter-widgets/controls",
            "_model_module_version": "1.5.0",
            "_model_name": "SliderStyleModel",
            "_view_count": null,
            "_view_module": "@jupyter-widgets/base",
            "_view_module_version": "1.2.0",
            "_view_name": "StyleView",
            "description_width": "",
            "handle_color": null
          }
        },
        "e1d482d33e8f485c8468cb3de5187ea8": {
          "model_module": "@jupyter-widgets/controls",
          "model_name": "VBoxModel",
          "model_module_version": "1.5.0",
          "state": {
            "_dom_classes": [
              "widget-interact"
            ],
            "_model_module": "@jupyter-widgets/controls",
            "_model_module_version": "1.5.0",
            "_model_name": "VBoxModel",
            "_view_count": null,
            "_view_module": "@jupyter-widgets/controls",
            "_view_module_version": "1.5.0",
            "_view_name": "VBoxView",
            "box_style": "",
            "children": [
              "IPY_MODEL_33414eafb9d343498a6391030d9231be",
              "IPY_MODEL_741c077faf0845f289647a5cb56dd38e",
              "IPY_MODEL_5cd12add96f24fe1a9d9c04dd8f35864",
              "IPY_MODEL_fa561953f6b54402a90715c4838aed7c"
            ],
            "layout": "IPY_MODEL_dd949a99157a45fabce000675aa1a5d5"
          }
        },
        "1b6cf2c462af43a186fb03574d5d6935": {
          "model_module": "@jupyter-widgets/base",
          "model_name": "LayoutModel",
          "model_module_version": "1.2.0",
          "state": {
            "_model_module": "@jupyter-widgets/base",
            "_model_module_version": "1.2.0",
            "_model_name": "LayoutModel",
            "_view_count": null,
            "_view_module": "@jupyter-widgets/base",
            "_view_module_version": "1.2.0",
            "_view_name": "LayoutView",
            "align_content": null,
            "align_items": null,
            "align_self": null,
            "border": null,
            "bottom": null,
            "display": null,
            "flex": null,
            "flex_flow": null,
            "grid_area": null,
            "grid_auto_columns": null,
            "grid_auto_flow": null,
            "grid_auto_rows": null,
            "grid_column": null,
            "grid_gap": null,
            "grid_row": null,
            "grid_template_areas": null,
            "grid_template_columns": null,
            "grid_template_rows": null,
            "height": null,
            "justify_content": null,
            "justify_items": null,
            "left": null,
            "margin": null,
            "max_height": null,
            "max_width": null,
            "min_height": null,
            "min_width": null,
            "object_fit": null,
            "object_position": null,
            "order": null,
            "overflow": null,
            "overflow_x": null,
            "overflow_y": null,
            "padding": null,
            "right": null,
            "top": null,
            "visibility": null,
            "width": null
          }
        },
        "33414eafb9d343498a6391030d9231be": {
          "model_module": "@jupyter-widgets/controls",
          "model_name": "IntSliderModel",
          "model_module_version": "1.5.0",
          "state": {
            "_dom_classes": [],
            "_model_module": "@jupyter-widgets/controls",
            "_model_module_version": "1.5.0",
            "_model_name": "IntSliderModel",
            "_view_count": null,
            "_view_module": "@jupyter-widgets/controls",
            "_view_module_version": "1.5.0",
            "_view_name": "IntSliderView",
            "continuous_update": true,
            "description": "coef_0",
            "description_tooltip": null,
            "disabled": false,
            "layout": "IPY_MODEL_0370377535d94474ae1adb3969b039e7",
            "max": 10,
            "min": -10,
            "orientation": "horizontal",
            "readout": true,
            "readout_format": "d",
            "step": 1,
            "style": "IPY_MODEL_3e4763bc09834c66a3c8e3317a632936",
            "value": 2
          }
        },
        "741c077faf0845f289647a5cb56dd38e": {
          "model_module": "@jupyter-widgets/controls",
          "model_name": "IntSliderModel",
          "model_module_version": "1.5.0",
          "state": {
            "_dom_classes": [],
            "_model_module": "@jupyter-widgets/controls",
            "_model_module_version": "1.5.0",
            "_model_name": "IntSliderModel",
            "_view_count": null,
            "_view_module": "@jupyter-widgets/controls",
            "_view_module_version": "1.5.0",
            "_view_name": "IntSliderView",
            "continuous_update": true,
            "description": "coef_1",
            "description_tooltip": null,
            "disabled": false,
            "layout": "IPY_MODEL_89e38d944d604128b8b6f4fde06d1988",
            "max": 10,
            "min": -10,
            "orientation": "horizontal",
            "readout": true,
            "readout_format": "d",
            "step": 1,
            "style": "IPY_MODEL_601b96603431474daf6cfda261baac66",
            "value": -3
          }
        },
        "5cd12add96f24fe1a9d9c04dd8f35864": {
          "model_module": "@jupyter-widgets/controls",
          "model_name": "IntSliderModel",
          "model_module_version": "1.5.0",
          "state": {
            "_dom_classes": [],
            "_model_module": "@jupyter-widgets/controls",
            "_model_module_version": "1.5.0",
            "_model_name": "IntSliderModel",
            "_view_count": null,
            "_view_module": "@jupyter-widgets/controls",
            "_view_module_version": "1.5.0",
            "_view_name": "IntSliderView",
            "continuous_update": true,
            "description": "coef_2",
            "description_tooltip": null,
            "disabled": false,
            "layout": "IPY_MODEL_748bfde05cfb4a3baa48bce3d133ab30",
            "max": 10,
            "min": -10,
            "orientation": "horizontal",
            "readout": true,
            "readout_format": "d",
            "step": 1,
            "style": "IPY_MODEL_5d008132980c47748491a1ad3c1b8dcc",
            "value": 2
          }
        },
        "fa561953f6b54402a90715c4838aed7c": {
          "model_module": "@jupyter-widgets/output",
          "model_name": "OutputModel",
          "model_module_version": "1.0.0",
          "state": {
            "_dom_classes": [],
            "_model_module": "@jupyter-widgets/output",
            "_model_module_version": "1.0.0",
            "_model_name": "OutputModel",
            "_view_count": null,
            "_view_module": "@jupyter-widgets/output",
            "_view_module_version": "1.0.0",
            "_view_name": "OutputView",
            "layout": "IPY_MODEL_5b584d48741d42b48fdb202bb3c1d78b",
            "msg_id": "",
            "outputs": [
              {
                "output_type": "display_data",
                "data": {
                  "text/plain": "<Figure size 800x600 with 1 Axes>",
                  "image/png": "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\n"
                },
                "metadata": {}
              }
            ]
          }
        },
        "dd949a99157a45fabce000675aa1a5d5": {
          "model_module": "@jupyter-widgets/base",
          "model_name": "LayoutModel",
          "model_module_version": "1.2.0",
          "state": {
            "_model_module": "@jupyter-widgets/base",
            "_model_module_version": "1.2.0",
            "_model_name": "LayoutModel",
            "_view_count": null,
            "_view_module": "@jupyter-widgets/base",
            "_view_module_version": "1.2.0",
            "_view_name": "LayoutView",
            "align_content": null,
            "align_items": null,
            "align_self": null,
            "border": null,
            "bottom": null,
            "display": null,
            "flex": null,
            "flex_flow": null,
            "grid_area": null,
            "grid_auto_columns": null,
            "grid_auto_flow": null,
            "grid_auto_rows": null,
            "grid_column": null,
            "grid_gap": null,
            "grid_row": null,
            "grid_template_areas": null,
            "grid_template_columns": null,
            "grid_template_rows": null,
            "height": null,
            "justify_content": null,
            "justify_items": null,
            "left": null,
            "margin": null,
            "max_height": null,
            "max_width": null,
            "min_height": null,
            "min_width": null,
            "object_fit": null,
            "object_position": null,
            "order": null,
            "overflow": null,
            "overflow_x": null,
            "overflow_y": null,
            "padding": null,
            "right": null,
            "top": null,
            "visibility": null,
            "width": null
          }
        },
        "0370377535d94474ae1adb3969b039e7": {
          "model_module": "@jupyter-widgets/base",
          "model_name": "LayoutModel",
          "model_module_version": "1.2.0",
          "state": {
            "_model_module": "@jupyter-widgets/base",
            "_model_module_version": "1.2.0",
            "_model_name": "LayoutModel",
            "_view_count": null,
            "_view_module": "@jupyter-widgets/base",
            "_view_module_version": "1.2.0",
            "_view_name": "LayoutView",
            "align_content": null,
            "align_items": null,
            "align_self": null,
            "border": null,
            "bottom": null,
            "display": null,
            "flex": null,
            "flex_flow": null,
            "grid_area": null,
            "grid_auto_columns": null,
            "grid_auto_flow": null,
            "grid_auto_rows": null,
            "grid_column": null,
            "grid_gap": null,
            "grid_row": null,
            "grid_template_areas": null,
            "grid_template_columns": null,
            "grid_template_rows": null,
            "height": null,
            "justify_content": null,
            "justify_items": null,
            "left": null,
            "margin": null,
            "max_height": null,
            "max_width": null,
            "min_height": null,
            "min_width": null,
            "object_fit": null,
            "object_position": null,
            "order": null,
            "overflow": null,
            "overflow_x": null,
            "overflow_y": null,
            "padding": null,
            "right": null,
            "top": null,
            "visibility": null,
            "width": null
          }
        },
        "3e4763bc09834c66a3c8e3317a632936": {
          "model_module": "@jupyter-widgets/controls",
          "model_name": "SliderStyleModel",
          "model_module_version": "1.5.0",
          "state": {
            "_model_module": "@jupyter-widgets/controls",
            "_model_module_version": "1.5.0",
            "_model_name": "SliderStyleModel",
            "_view_count": null,
            "_view_module": "@jupyter-widgets/base",
            "_view_module_version": "1.2.0",
            "_view_name": "StyleView",
            "description_width": "",
            "handle_color": null
          }
        },
        "89e38d944d604128b8b6f4fde06d1988": {
          "model_module": "@jupyter-widgets/base",
          "model_name": "LayoutModel",
          "model_module_version": "1.2.0",
          "state": {
            "_model_module": "@jupyter-widgets/base",
            "_model_module_version": "1.2.0",
            "_model_name": "LayoutModel",
            "_view_count": null,
            "_view_module": "@jupyter-widgets/base",
            "_view_module_version": "1.2.0",
            "_view_name": "LayoutView",
            "align_content": null,
            "align_items": null,
            "align_self": null,
            "border": null,
            "bottom": null,
            "display": null,
            "flex": null,
            "flex_flow": null,
            "grid_area": null,
            "grid_auto_columns": null,
            "grid_auto_flow": null,
            "grid_auto_rows": null,
            "grid_column": null,
            "grid_gap": null,
            "grid_row": null,
            "grid_template_areas": null,
            "grid_template_columns": null,
            "grid_template_rows": null,
            "height": null,
            "justify_content": null,
            "justify_items": null,
            "left": null,
            "margin": null,
            "max_height": null,
            "max_width": null,
            "min_height": null,
            "min_width": null,
            "object_fit": null,
            "object_position": null,
            "order": null,
            "overflow": null,
            "overflow_x": null,
            "overflow_y": null,
            "padding": null,
            "right": null,
            "top": null,
            "visibility": null,
            "width": null
          }
        },
        "601b96603431474daf6cfda261baac66": {
          "model_module": "@jupyter-widgets/controls",
          "model_name": "SliderStyleModel",
          "model_module_version": "1.5.0",
          "state": {
            "_model_module": "@jupyter-widgets/controls",
            "_model_module_version": "1.5.0",
            "_model_name": "SliderStyleModel",
            "_view_count": null,
            "_view_module": "@jupyter-widgets/base",
            "_view_module_version": "1.2.0",
            "_view_name": "StyleView",
            "description_width": "",
            "handle_color": null
          }
        },
        "748bfde05cfb4a3baa48bce3d133ab30": {
          "model_module": "@jupyter-widgets/base",
          "model_name": "LayoutModel",
          "model_module_version": "1.2.0",
          "state": {
            "_model_module": "@jupyter-widgets/base",
            "_model_module_version": "1.2.0",
            "_model_name": "LayoutModel",
            "_view_count": null,
            "_view_module": "@jupyter-widgets/base",
            "_view_module_version": "1.2.0",
            "_view_name": "LayoutView",
            "align_content": null,
            "align_items": null,
            "align_self": null,
            "border": null,
            "bottom": null,
            "display": null,
            "flex": null,
            "flex_flow": null,
            "grid_area": null,
            "grid_auto_columns": null,
            "grid_auto_flow": null,
            "grid_auto_rows": null,
            "grid_column": null,
            "grid_gap": null,
            "grid_row": null,
            "grid_template_areas": null,
            "grid_template_columns": null,
            "grid_template_rows": null,
            "height": null,
            "justify_content": null,
            "justify_items": null,
            "left": null,
            "margin": null,
            "max_height": null,
            "max_width": null,
            "min_height": null,
            "min_width": null,
            "object_fit": null,
            "object_position": null,
            "order": null,
            "overflow": null,
            "overflow_x": null,
            "overflow_y": null,
            "padding": null,
            "right": null,
            "top": null,
            "visibility": null,
            "width": null
          }
        },
        "5d008132980c47748491a1ad3c1b8dcc": {
          "model_module": "@jupyter-widgets/controls",
          "model_name": "SliderStyleModel",
          "model_module_version": "1.5.0",
          "state": {
            "_model_module": "@jupyter-widgets/controls",
            "_model_module_version": "1.5.0",
            "_model_name": "SliderStyleModel",
            "_view_count": null,
            "_view_module": "@jupyter-widgets/base",
            "_view_module_version": "1.2.0",
            "_view_name": "StyleView",
            "description_width": "",
            "handle_color": null
          }
        },
        "5b584d48741d42b48fdb202bb3c1d78b": {
          "model_module": "@jupyter-widgets/base",
          "model_name": "LayoutModel",
          "model_module_version": "1.2.0",
          "state": {
            "_model_module": "@jupyter-widgets/base",
            "_model_module_version": "1.2.0",
            "_model_name": "LayoutModel",
            "_view_count": null,
            "_view_module": "@jupyter-widgets/base",
            "_view_module_version": "1.2.0",
            "_view_name": "LayoutView",
            "align_content": null,
            "align_items": null,
            "align_self": null,
            "border": null,
            "bottom": null,
            "display": null,
            "flex": null,
            "flex_flow": null,
            "grid_area": null,
            "grid_auto_columns": null,
            "grid_auto_flow": null,
            "grid_auto_rows": null,
            "grid_column": null,
            "grid_gap": null,
            "grid_row": null,
            "grid_template_areas": null,
            "grid_template_columns": null,
            "grid_template_rows": null,
            "height": null,
            "justify_content": null,
            "justify_items": null,
            "left": null,
            "margin": null,
            "max_height": null,
            "max_width": null,
            "min_height": null,
            "min_width": null,
            "object_fit": null,
            "object_position": null,
            "order": null,
            "overflow": null,
            "overflow_x": null,
            "overflow_y": null,
            "padding": null,
            "right": null,
            "top": null,
            "visibility": null,
            "width": null
          }
        },
        "1aecf7c4ec6642e8aba263fc0d6a4ef7": {
          "model_module": "@jupyter-widgets/controls",
          "model_name": "VBoxModel",
          "model_module_version": "1.5.0",
          "state": {
            "_dom_classes": [
              "widget-interact"
            ],
            "_model_module": "@jupyter-widgets/controls",
            "_model_module_version": "1.5.0",
            "_model_name": "VBoxModel",
            "_view_count": null,
            "_view_module": "@jupyter-widgets/controls",
            "_view_module_version": "1.5.0",
            "_view_name": "VBoxView",
            "box_style": "",
            "children": [
              "IPY_MODEL_6c6d438bcb5048febd17c070346f87ba",
              "IPY_MODEL_17d1bf79ed7f46318d20025f418f8830",
              "IPY_MODEL_f6bc5254a01e4eae8b5f198e9d3ffcc9",
              "IPY_MODEL_cc54dda7d8a3447b90e756ccb7becefc",
              "IPY_MODEL_d4c232dd3f33495da139e3488e8d6e65"
            ],
            "layout": "IPY_MODEL_7c36def6005f417585966746e2662422"
          }
        },
        "6c6d438bcb5048febd17c070346f87ba": {
          "model_module": "@jupyter-widgets/controls",
          "model_name": "IntSliderModel",
          "model_module_version": "1.5.0",
          "state": {
            "_dom_classes": [],
            "_model_module": "@jupyter-widgets/controls",
            "_model_module_version": "1.5.0",
            "_model_name": "IntSliderModel",
            "_view_count": null,
            "_view_module": "@jupyter-widgets/controls",
            "_view_module_version": "1.5.0",
            "_view_name": "IntSliderView",
            "continuous_update": true,
            "description": "coef_0",
            "description_tooltip": null,
            "disabled": false,
            "layout": "IPY_MODEL_035eac316d61464aab57e74bac3cd8ad",
            "max": 10,
            "min": -10,
            "orientation": "horizontal",
            "readout": true,
            "readout_format": "d",
            "step": 1,
            "style": "IPY_MODEL_0952085c87984621a4af45f1053cb2b2",
            "value": -2
          }
        },
        "17d1bf79ed7f46318d20025f418f8830": {
          "model_module": "@jupyter-widgets/controls",
          "model_name": "IntSliderModel",
          "model_module_version": "1.5.0",
          "state": {
            "_dom_classes": [],
            "_model_module": "@jupyter-widgets/controls",
            "_model_module_version": "1.5.0",
            "_model_name": "IntSliderModel",
            "_view_count": null,
            "_view_module": "@jupyter-widgets/controls",
            "_view_module_version": "1.5.0",
            "_view_name": "IntSliderView",
            "continuous_update": true,
            "description": "coef_1",
            "description_tooltip": null,
            "disabled": false,
            "layout": "IPY_MODEL_80320dd2dd6247a78aaeb1d98b557d20",
            "max": 10,
            "min": -10,
            "orientation": "horizontal",
            "readout": true,
            "readout_format": "d",
            "step": 1,
            "style": "IPY_MODEL_8e7291cffba4428984624e9f37a922d2",
            "value": 0
          }
        },
        "f6bc5254a01e4eae8b5f198e9d3ffcc9": {
          "model_module": "@jupyter-widgets/controls",
          "model_name": "IntSliderModel",
          "model_module_version": "1.5.0",
          "state": {
            "_dom_classes": [],
            "_model_module": "@jupyter-widgets/controls",
            "_model_module_version": "1.5.0",
            "_model_name": "IntSliderModel",
            "_view_count": null,
            "_view_module": "@jupyter-widgets/controls",
            "_view_module_version": "1.5.0",
            "_view_name": "IntSliderView",
            "continuous_update": true,
            "description": "coef_2",
            "description_tooltip": null,
            "disabled": false,
            "layout": "IPY_MODEL_e025b6a9b90a40f88e1e5c01ad3f7637",
            "max": 10,
            "min": -10,
            "orientation": "horizontal",
            "readout": true,
            "readout_format": "d",
            "step": 1,
            "style": "IPY_MODEL_1131e3223621461792d256915648c64d",
            "value": 2
          }
        },
        "cc54dda7d8a3447b90e756ccb7becefc": {
          "model_module": "@jupyter-widgets/controls",
          "model_name": "IntSliderModel",
          "model_module_version": "1.5.0",
          "state": {
            "_dom_classes": [],
            "_model_module": "@jupyter-widgets/controls",
            "_model_module_version": "1.5.0",
            "_model_name": "IntSliderModel",
            "_view_count": null,
            "_view_module": "@jupyter-widgets/controls",
            "_view_module_version": "1.5.0",
            "_view_name": "IntSliderView",
            "continuous_update": true,
            "description": "coef_3",
            "description_tooltip": null,
            "disabled": false,
            "layout": "IPY_MODEL_c52414f93e40431e8792e6d0d949d642",
            "max": 10,
            "min": -10,
            "orientation": "horizontal",
            "readout": true,
            "readout_format": "d",
            "step": 1,
            "style": "IPY_MODEL_9b70433b510e48f180187a3ac09f935e",
            "value": -1
          }
        },
        "d4c232dd3f33495da139e3488e8d6e65": {
          "model_module": "@jupyter-widgets/output",
          "model_name": "OutputModel",
          "model_module_version": "1.0.0",
          "state": {
            "_dom_classes": [],
            "_model_module": "@jupyter-widgets/output",
            "_model_module_version": "1.0.0",
            "_model_name": "OutputModel",
            "_view_count": null,
            "_view_module": "@jupyter-widgets/output",
            "_view_module_version": "1.0.0",
            "_view_name": "OutputView",
            "layout": "IPY_MODEL_f678d664a8064f59a7bc4f5a50e546fd",
            "msg_id": "",
            "outputs": [
              {
                "output_type": "display_data",
                "data": {
                  "text/plain": "<Figure size 800x600 with 1 Axes>",
                  "image/png": "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\n"
                },
                "metadata": {}
              }
            ]
          }
        },
        "7c36def6005f417585966746e2662422": {
          "model_module": "@jupyter-widgets/base",
          "model_name": "LayoutModel",
          "model_module_version": "1.2.0",
          "state": {
            "_model_module": "@jupyter-widgets/base",
            "_model_module_version": "1.2.0",
            "_model_name": "LayoutModel",
            "_view_count": null,
            "_view_module": "@jupyter-widgets/base",
            "_view_module_version": "1.2.0",
            "_view_name": "LayoutView",
            "align_content": null,
            "align_items": null,
            "align_self": null,
            "border": null,
            "bottom": null,
            "display": null,
            "flex": null,
            "flex_flow": null,
            "grid_area": null,
            "grid_auto_columns": null,
            "grid_auto_flow": null,
            "grid_auto_rows": null,
            "grid_column": null,
            "grid_gap": null,
            "grid_row": null,
            "grid_template_areas": null,
            "grid_template_columns": null,
            "grid_template_rows": null,
            "height": null,
            "justify_content": null,
            "justify_items": null,
            "left": null,
            "margin": null,
            "max_height": null,
            "max_width": null,
            "min_height": null,
            "min_width": null,
            "object_fit": null,
            "object_position": null,
            "order": null,
            "overflow": null,
            "overflow_x": null,
            "overflow_y": null,
            "padding": null,
            "right": null,
            "top": null,
            "visibility": null,
            "width": null
          }
        },
        "035eac316d61464aab57e74bac3cd8ad": {
          "model_module": "@jupyter-widgets/base",
          "model_name": "LayoutModel",
          "model_module_version": "1.2.0",
          "state": {
            "_model_module": "@jupyter-widgets/base",
            "_model_module_version": "1.2.0",
            "_model_name": "LayoutModel",
            "_view_count": null,
            "_view_module": "@jupyter-widgets/base",
            "_view_module_version": "1.2.0",
            "_view_name": "LayoutView",
            "align_content": null,
            "align_items": null,
            "align_self": null,
            "border": null,
            "bottom": null,
            "display": null,
            "flex": null,
            "flex_flow": null,
            "grid_area": null,
            "grid_auto_columns": null,
            "grid_auto_flow": null,
            "grid_auto_rows": null,
            "grid_column": null,
            "grid_gap": null,
            "grid_row": null,
            "grid_template_areas": null,
            "grid_template_columns": null,
            "grid_template_rows": null,
            "height": null,
            "justify_content": null,
            "justify_items": null,
            "left": null,
            "margin": null,
            "max_height": null,
            "max_width": null,
            "min_height": null,
            "min_width": null,
            "object_fit": null,
            "object_position": null,
            "order": null,
            "overflow": null,
            "overflow_x": null,
            "overflow_y": null,
            "padding": null,
            "right": null,
            "top": null,
            "visibility": null,
            "width": null
          }
        },
        "0952085c87984621a4af45f1053cb2b2": {
          "model_module": "@jupyter-widgets/controls",
          "model_name": "SliderStyleModel",
          "model_module_version": "1.5.0",
          "state": {
            "_model_module": "@jupyter-widgets/controls",
            "_model_module_version": "1.5.0",
            "_model_name": "SliderStyleModel",
            "_view_count": null,
            "_view_module": "@jupyter-widgets/base",
            "_view_module_version": "1.2.0",
            "_view_name": "StyleView",
            "description_width": "",
            "handle_color": null
          }
        },
        "80320dd2dd6247a78aaeb1d98b557d20": {
          "model_module": "@jupyter-widgets/base",
          "model_name": "LayoutModel",
          "model_module_version": "1.2.0",
          "state": {
            "_model_module": "@jupyter-widgets/base",
            "_model_module_version": "1.2.0",
            "_model_name": "LayoutModel",
            "_view_count": null,
            "_view_module": "@jupyter-widgets/base",
            "_view_module_version": "1.2.0",
            "_view_name": "LayoutView",
            "align_content": null,
            "align_items": null,
            "align_self": null,
            "border": null,
            "bottom": null,
            "display": null,
            "flex": null,
            "flex_flow": null,
            "grid_area": null,
            "grid_auto_columns": null,
            "grid_auto_flow": null,
            "grid_auto_rows": null,
            "grid_column": null,
            "grid_gap": null,
            "grid_row": null,
            "grid_template_areas": null,
            "grid_template_columns": null,
            "grid_template_rows": null,
            "height": null,
            "justify_content": null,
            "justify_items": null,
            "left": null,
            "margin": null,
            "max_height": null,
            "max_width": null,
            "min_height": null,
            "min_width": null,
            "object_fit": null,
            "object_position": null,
            "order": null,
            "overflow": null,
            "overflow_x": null,
            "overflow_y": null,
            "padding": null,
            "right": null,
            "top": null,
            "visibility": null,
            "width": null
          }
        },
        "8e7291cffba4428984624e9f37a922d2": {
          "model_module": "@jupyter-widgets/controls",
          "model_name": "SliderStyleModel",
          "model_module_version": "1.5.0",
          "state": {
            "_model_module": "@jupyter-widgets/controls",
            "_model_module_version": "1.5.0",
            "_model_name": "SliderStyleModel",
            "_view_count": null,
            "_view_module": "@jupyter-widgets/base",
            "_view_module_version": "1.2.0",
            "_view_name": "StyleView",
            "description_width": "",
            "handle_color": null
          }
        },
        "e025b6a9b90a40f88e1e5c01ad3f7637": {
          "model_module": "@jupyter-widgets/base",
          "model_name": "LayoutModel",
          "model_module_version": "1.2.0",
          "state": {
            "_model_module": "@jupyter-widgets/base",
            "_model_module_version": "1.2.0",
            "_model_name": "LayoutModel",
            "_view_count": null,
            "_view_module": "@jupyter-widgets/base",
            "_view_module_version": "1.2.0",
            "_view_name": "LayoutView",
            "align_content": null,
            "align_items": null,
            "align_self": null,
            "border": null,
            "bottom": null,
            "display": null,
            "flex": null,
            "flex_flow": null,
            "grid_area": null,
            "grid_auto_columns": null,
            "grid_auto_flow": null,
            "grid_auto_rows": null,
            "grid_column": null,
            "grid_gap": null,
            "grid_row": null,
            "grid_template_areas": null,
            "grid_template_columns": null,
            "grid_template_rows": null,
            "height": null,
            "justify_content": null,
            "justify_items": null,
            "left": null,
            "margin": null,
            "max_height": null,
            "max_width": null,
            "min_height": null,
            "min_width": null,
            "object_fit": null,
            "object_position": null,
            "order": null,
            "overflow": null,
            "overflow_x": null,
            "overflow_y": null,
            "padding": null,
            "right": null,
            "top": null,
            "visibility": null,
            "width": null
          }
        },
        "1131e3223621461792d256915648c64d": {
          "model_module": "@jupyter-widgets/controls",
          "model_name": "SliderStyleModel",
          "model_module_version": "1.5.0",
          "state": {
            "_model_module": "@jupyter-widgets/controls",
            "_model_module_version": "1.5.0",
            "_model_name": "SliderStyleModel",
            "_view_count": null,
            "_view_module": "@jupyter-widgets/base",
            "_view_module_version": "1.2.0",
            "_view_name": "StyleView",
            "description_width": "",
            "handle_color": null
          }
        },
        "c52414f93e40431e8792e6d0d949d642": {
          "model_module": "@jupyter-widgets/base",
          "model_name": "LayoutModel",
          "model_module_version": "1.2.0",
          "state": {
            "_model_module": "@jupyter-widgets/base",
            "_model_module_version": "1.2.0",
            "_model_name": "LayoutModel",
            "_view_count": null,
            "_view_module": "@jupyter-widgets/base",
            "_view_module_version": "1.2.0",
            "_view_name": "LayoutView",
            "align_content": null,
            "align_items": null,
            "align_self": null,
            "border": null,
            "bottom": null,
            "display": null,
            "flex": null,
            "flex_flow": null,
            "grid_area": null,
            "grid_auto_columns": null,
            "grid_auto_flow": null,
            "grid_auto_rows": null,
            "grid_column": null,
            "grid_gap": null,
            "grid_row": null,
            "grid_template_areas": null,
            "grid_template_columns": null,
            "grid_template_rows": null,
            "height": null,
            "justify_content": null,
            "justify_items": null,
            "left": null,
            "margin": null,
            "max_height": null,
            "max_width": null,
            "min_height": null,
            "min_width": null,
            "object_fit": null,
            "object_position": null,
            "order": null,
            "overflow": null,
            "overflow_x": null,
            "overflow_y": null,
            "padding": null,
            "right": null,
            "top": null,
            "visibility": null,
            "width": null
          }
        },
        "9b70433b510e48f180187a3ac09f935e": {
          "model_module": "@jupyter-widgets/controls",
          "model_name": "SliderStyleModel",
          "model_module_version": "1.5.0",
          "state": {
            "_model_module": "@jupyter-widgets/controls",
            "_model_module_version": "1.5.0",
            "_model_name": "SliderStyleModel",
            "_view_count": null,
            "_view_module": "@jupyter-widgets/base",
            "_view_module_version": "1.2.0",
            "_view_name": "StyleView",
            "description_width": "",
            "handle_color": null
          }
        },
        "f678d664a8064f59a7bc4f5a50e546fd": {
          "model_module": "@jupyter-widgets/base",
          "model_name": "LayoutModel",
          "model_module_version": "1.2.0",
          "state": {
            "_model_module": "@jupyter-widgets/base",
            "_model_module_version": "1.2.0",
            "_model_name": "LayoutModel",
            "_view_count": null,
            "_view_module": "@jupyter-widgets/base",
            "_view_module_version": "1.2.0",
            "_view_name": "LayoutView",
            "align_content": null,
            "align_items": null,
            "align_self": null,
            "border": null,
            "bottom": null,
            "display": null,
            "flex": null,
            "flex_flow": null,
            "grid_area": null,
            "grid_auto_columns": null,
            "grid_auto_flow": null,
            "grid_auto_rows": null,
            "grid_column": null,
            "grid_gap": null,
            "grid_row": null,
            "grid_template_areas": null,
            "grid_template_columns": null,
            "grid_template_rows": null,
            "height": null,
            "justify_content": null,
            "justify_items": null,
            "left": null,
            "margin": null,
            "max_height": null,
            "max_width": null,
            "min_height": null,
            "min_width": null,
            "object_fit": null,
            "object_position": null,
            "order": null,
            "overflow": null,
            "overflow_x": null,
            "overflow_y": null,
            "padding": null,
            "right": null,
            "top": null,
            "visibility": null,
            "width": null
          }
        }
      }
    }
  },
  "cells": [
    {
      "cell_type": "markdown",
      "metadata": {
        "id": "view-in-github",
        "colab_type": "text"
      },
      "source": [
        "<a href=\"https://colab.research.google.com/github/Samuel-Schlemper-Schlemuel/Foundational_Math_3/blob/main/Foundational_Math_3_(Learn).ipynb\" target=\"_parent\"><img src=\"https://colab.research.google.com/assets/colab-badge.svg\" alt=\"Open In Colab\"/></a>"
      ]
    },
    {
      "cell_type": "markdown",
      "metadata": {
        "id": "EsfO5Q92tL-6"
      },
      "source": [
        "[![freeCodeCamp](https://cdn.freecodecamp.org/testable-projects-fcc/images/fcc_secondary.svg)](https://freecodecamp.org/)"
      ]
    },
    {
      "cell_type": "markdown",
      "metadata": {
        "id": "57mlyO58UfN0"
      },
      "source": [
        "**Learn Foundational Math 3 by Building a Financial App**<br>\n",
        "Each of these steps will lead you toward the Certification Project. Once you complete a step, click to expand the next step."
      ]
    },
    {
      "cell_type": "markdown",
      "metadata": {
        "id": "szp5flp1fA8-"
      },
      "source": [
        "# &darr; **Do this first** &darr;\n",
        "Copy this notebook to your own account by clicking the `File` button at the top, and then click `Save a copy in Drive`. You will need to be logged in to Google. The file will be in a folder called \"Colab Notebooks\" in your Google Drive."
      ]
    },
    {
      "cell_type": "markdown",
      "source": [
        "# Step 0 - Acquire the Testing Library"
      ],
      "metadata": {
        "id": "KDloBuvnHQTS"
      }
    },
    {
      "cell_type": "markdown",
      "source": [
        "Please run this code to get the library file from FreeCodeCamp. Each step will use this library to test your code. You do not need to edit anything; just run this code cell and wait a few seconds until it tells you to go on to the next step."
      ],
      "metadata": {
        "id": "JiW6TlNezZKS"
      }
    },
    {
      "cell_type": "code",
      "source": [
        "# You may need to run this cell at the beginning of each new session\n",
        "\n",
        "!pip install requests\n",
        "\n",
        "# This will just take a few seconds\n",
        "\n",
        "import requests\n",
        "\n",
        "# Get the library from GitHub\n",
        "url = 'https://raw.githubusercontent.com/edatfreecodecamp/python-math/main/math-code-test-c.py'\n",
        "r = requests.get(url)\n",
        "\n",
        "# Save the library in a local working directory\n",
        "with open('math_code_test_c.py', 'w') as f:\n",
        "    f.write(r.text)\n",
        "\n",
        "# Now you can import the library\n",
        "import math_code_test_c as test\n",
        "\n",
        "# This will tell you if the code works\n",
        "test.step00()"
      ],
      "metadata": {
        "id": "eTlHceacGa1C",
        "colab": {
          "base_uri": "https://localhost:8080/"
        },
        "outputId": "4e5e3431-1417-46c4-b393-e909648d5680"
      },
      "execution_count": null,
      "outputs": [
        {
          "output_type": "stream",
          "name": "stdout",
          "text": [
            "Requirement already satisfied: requests in /usr/local/lib/python3.10/dist-packages (2.31.0)\n",
            "Requirement already satisfied: charset-normalizer<4,>=2 in /usr/local/lib/python3.10/dist-packages (from requests) (3.3.2)\n",
            "Requirement already satisfied: idna<4,>=2.5 in /usr/local/lib/python3.10/dist-packages (from requests) (3.6)\n",
            "Requirement already satisfied: urllib3<3,>=1.21.1 in /usr/local/lib/python3.10/dist-packages (from requests) (2.0.7)\n",
            "Requirement already satisfied: certifi>=2017.4.17 in /usr/local/lib/python3.10/dist-packages (from requests) (2023.11.17)\n",
            "Code test passed\n",
            "Go on to the next step\n"
          ]
        }
      ]
    },
    {
      "cell_type": "markdown",
      "metadata": {
        "id": "r1AM-AcqkbyF"
      },
      "source": [
        "# Step 1 - Graphing Inequalities"
      ]
    },
    {
      "cell_type": "markdown",
      "metadata": {
        "id": "K8rdL_OEkd-t"
      },
      "source": [
        "Learn Inequalities by Building Shaded Graphs. Notice how you set up the plot, like you learned in the last certification. Run the following code and you will see that the graph of y <u>></u> 2x is not quite right. Because y is greater, the shading should be above the line. The second two arguments in the `fill_between()` function give a range of y values to shade. Change just that part of the code to make the graph correct. (Hint: Think about the top of the graph.)\n"
      ]
    },
    {
      "cell_type": "code",
      "metadata": {
        "id": "QAVgVP3xUd4J",
        "colab": {
          "base_uri": "https://localhost:8080/",
          "height": 504
        },
        "outputId": "d5d04c07-5051-4ed0-a71a-5caf40387fb9"
      },
      "source": [
        "import matplotlib.pyplot as plt\n",
        "import numpy as np\n",
        "\n",
        "xmin = -10\n",
        "xmax = 10\n",
        "ymin = - 10\n",
        "ymax = 10\n",
        "points = 2*(xmax-xmin)\n",
        "x = np.linspace(xmin,xmax,points)\n",
        "\n",
        "fig, ax = plt.subplots()\n",
        "plt.axis([xmin,xmax,ymin,ymax]) # window size\n",
        "plt.plot([xmin,xmax],[0,0],'b') # blue x axis\n",
        "plt.plot([0,0],[ymin,ymax], 'b') # blue y axis\n",
        "\n",
        "plt.title(\"y > 2x\")\n",
        "\n",
        "y1 = 2*x\n",
        "plt.plot(x, y1)\n",
        "\n",
        "# Only change code below this line\n",
        "plt.fill_between(x, y1, ymax)\n",
        "\n",
        "plt.show()\n",
        "\n",
        "\n",
        "# Only change code above this line\n",
        "import math_code_test_c as test\n",
        "test.step01(In[-1].split('# Only change code above this line')[0])"
      ],
      "execution_count": null,
      "outputs": [
        {
          "output_type": "display_data",
          "data": {
            "text/plain": [
              "<Figure size 640x480 with 1 Axes>"
            ],
            "image/png": "[encoded data removed]"
          },
          "metadata": {}
        },
        {
          "output_type": "stream",
          "name": "stdout",
          "text": [
            " \n",
            "Code test passed\n",
            "Go on to the next step\n"
          ]
        }
      ]
    },
    {
      "cell_type": "markdown",
      "metadata": {
        "id": "8wXbGsoYkm60"
      },
      "source": [
        "# Step 2 - Graphing inequalities - Part 2"
      ]
    },
    {
      "cell_type": "markdown",
      "metadata": {
        "id": "ehY1G02Dkv7r"
      },
      "source": [
        "The default graph will give you a solid line, but you can change the type of line and the color. As `'b'` is for a solid blue line, `'b--'` will be a dashed blue line and `'r--'` will display a dashed red line. Change the code to graph a dashed red line."
      ]
    },
    {
      "cell_type": "code",
      "metadata": {
        "id": "3Pp_SmUikwgy",
        "colab": {
          "base_uri": "https://localhost:8080/",
          "height": 487
        },
        "outputId": "668dfd5a-e327-431c-a633-776d3506aa4f"
      },
      "source": [
        "import matplotlib.pyplot as plt\n",
        "import numpy as np\n",
        "\n",
        "xmin = -10\n",
        "xmax = 10\n",
        "ymin = - 10\n",
        "ymax = 10\n",
        "points = 2*(xmax-xmin)\n",
        "x = np.linspace(xmin,xmax,points)\n",
        "\n",
        "fig, ax = plt.subplots()\n",
        "plt.axis([xmin,xmax,ymin,ymax]) # window size\n",
        "plt.plot([xmin,xmax],[0,0],'b') # blue x axis\n",
        "plt.plot([0,0],[ymin,ymax], 'b') # blue y axis\n",
        "\n",
        "y1 = 2*x\n",
        "\n",
        "# Only change the next line:\n",
        "plt.plot(x, y1, 'r--')\n",
        "\n",
        "plt.fill_between(x, y1, ymin)\n",
        "plt.show()\n",
        "\n",
        "\n",
        "\n",
        "# Only change code above this line\n",
        "import math_code_test_c as test\n",
        "test.step02(In[-1].split('# Only change code above this line')[0])"
      ],
      "execution_count": null,
      "outputs": [
        {
          "output_type": "display_data",
          "data": {
            "text/plain": [
              "<Figure size 640x480 with 1 Axes>"
            ],
            "image/png": "[encoded data removed]"
          },
          "metadata": {}
        },
        {
          "output_type": "stream",
          "name": "stdout",
          "text": [
            " \n",
            "Code test passed\n",
            "Go on to the next step\n"
          ]
        }
      ]
    },
    {
      "cell_type": "markdown",
      "metadata": {
        "id": "tBxuJtHck2Oo"
      },
      "source": [
        "# Step 3 - Making Art with Graphs"
      ]
    },
    {
      "cell_type": "markdown",
      "metadata": {
        "id": "PTr63nCrlTiM"
      },
      "source": [
        "Now plot four inequalities on the graph, in a pattern. Notice how you only need to define the x values once. In the `fill_between()` function notice a fourth argument, `facecolor=`, to indicate a different color for the shaded area. The color name in single quotes, like 'green' or 'yellow' or any common color name. Run the code to see the pattern, then reverse the order of the colors and run it again."
      ]
    },
    {
      "cell_type": "code",
      "metadata": {
        "id": "Iyoq1h3vlV-a",
        "colab": {
          "base_uri": "https://localhost:8080/",
          "height": 487
        },
        "outputId": "5973058c-b29f-4dbe-ad8c-ba5178ebf142"
      },
      "source": [
        "import matplotlib.pyplot as plt\n",
        "import numpy as np\n",
        "\n",
        "xmin = -10\n",
        "xmax = 10\n",
        "ymin = - 10\n",
        "ymax = 10\n",
        "points = 2*(xmax-xmin)\n",
        "x = np.linspace(xmin,xmax,points)\n",
        "\n",
        "fig, ax = plt.subplots()\n",
        "plt.axis([xmin,xmax,ymin,ymax]) # window size\n",
        "plt.plot([xmin,xmax],[0,0],'b') # blue x axis\n",
        "plt.plot([0,0],[ymin,ymax], 'b') # blue y axis\n",
        "\n",
        "# Only change the lines indicated below\n",
        "\n",
        "# line 1\n",
        "y1 = x+6\n",
        "plt.plot(x, y1)\n",
        "plt.fill_between(x, y1, 10, facecolor='blue') # change this line\n",
        "\n",
        "# line 2\n",
        "y2 = x+3\n",
        "plt.plot(x, y2)\n",
        "plt.fill_between(x, y2, y1, facecolor='green') # change this line\n",
        "\n",
        "# line 3\n",
        "y3 = x-1\n",
        "plt.plot(x, y3)\n",
        "plt.fill_between(x, y3, y2, facecolor='yellow') # change this line\n",
        "\n",
        "# line 4\n",
        "y4 = x-4\n",
        "plt.plot(x, y4)\n",
        "plt.fill_between(x, y4, y3, facecolor='red') # change this line\n",
        "\n",
        "plt.show()\n",
        "\n",
        "\n",
        "\n",
        "# Only change code above this line\n",
        "import math_code_test_c as test\n",
        "test.step03(In[-1].split('# Only change code above this line')[0])"
      ],
      "execution_count": null,
      "outputs": [
        {
          "output_type": "display_data",
          "data": {
            "text/plain": [
              "<Figure size 640x480 with 1 Axes>"
            ],
            "image/png": "[encoded data removed]"
          },
          "metadata": {}
        },
        {
          "output_type": "stream",
          "name": "stdout",
          "text": [
            " \n",
            "Code test passed\n",
            "Go on to the next step\n"
          ]
        }
      ]
    },
    {
      "cell_type": "markdown",
      "metadata": {
        "id": "s3z_zaNWlet8"
      },
      "source": [
        "# Step 4 - Monomials"
      ]
    },
    {
      "cell_type": "markdown",
      "metadata": {
        "id": "BTOGQIpElet-"
      },
      "source": [
        "A <i>monomial</i> means \"one thing\" or one term. In a math equation, each term has a sign, a coefficient, and a variable to an exponent. Here are some examples: In the term -3x<sup>2</sup> you can see that the sign is negative, the coefficient is 3, the variable is x, the exponent is 2. The term x also has all of these parts: the sign is positive, the coefficient is 1, the variable is x, and the exponent is 1. In the term 5, the sign is positive, the coefficient is 5, the variable is still x, and the exponent is zero (notice that you don't need to write some of these parts, like x<sup>0</sup>). You can use `sympy` to display monomials nicely. Just run the code to see how this looks.  "
      ]
    },
    {
      "cell_type": "code",
      "metadata": {
        "id": "oAPKmzeblet_",
        "colab": {
          "base_uri": "https://localhost:8080/",
          "height": 73
        },
        "outputId": "8223bbd8-8bab-4b45-92cb-197786c72875"
      },
      "source": [
        "from sympy import symbols, Eq\n",
        "\n",
        "x = symbols('x')\n",
        "eq1 = Eq(-2*x**3 , -16)\n",
        "display(eq1)\n",
        "\n",
        "\n",
        "# Just run this code\n",
        "import math_code_test_c as test\n",
        "test.step00()"
      ],
      "execution_count": null,
      "outputs": [
        {
          "output_type": "display_data",
          "data": {
            "text/plain": [
              "Eq(-2*x**3, -16)"
            ],
            "text/latex": "$\\displaystyle - 2 x^{3} = -16$"
          },
          "metadata": {}
        },
        {
          "output_type": "stream",
          "name": "stdout",
          "text": [
            "Code test passed\n",
            "Go on to the next step\n"
          ]
        }
      ]
    },
    {
      "cell_type": "markdown",
      "metadata": {
        "id": "lnP9BOpPlhdK"
      },
      "source": [
        "# Step 5 - Polynomials"
      ]
    },
    {
      "cell_type": "markdown",
      "metadata": {
        "id": "ABF6PI7TlhdL"
      },
      "source": [
        "A \"monomial\" is one thing. A \"binomial\" is two things. A \"trinomial\" is three things. A \"polynomial\" is many things. In standard form, `x` is the variable; you put your terms in order from highest exponent to lowest; refer to the coefficients with letters in alphabetical order; and set all of this equal to `y` (because it is a function that you can graph). Example: y = ax<sup>4</sup> + bx<sup>3</sup> + cx<sup>2</sup> + dx + e <br>\n",
        "Write code to prompt for integer input and display a polynomial. Remember to use the `**` for exponents. Parts of this are already done for you."
      ]
    },
    {
      "cell_type": "code",
      "metadata": {
        "id": "USVAJRualhdL",
        "colab": {
          "base_uri": "https://localhost:8080/",
          "height": 177
        },
        "outputId": "95d8648e-47bd-4e1a-e741-95b5281af786"
      },
      "source": [
        "from IPython.display import display, Math\n",
        "from sympy import *\n",
        "\n",
        "x,y = symbols('x y')\n",
        "\n",
        "a = int(input(\"Enter coefficient A: \"))\n",
        "b = int(input(\"Enter coefficient B: \"))\n",
        "# continue this to prompt for variables c and d\n",
        "c = int(input(\"Enter coefficient C: \"))\n",
        "d = int(input(\"Enter coefficient D: \"))\n",
        "\n",
        "# change the next line to display the full polynomial\n",
        "y = a*x**3 + b*x**2 + c*x + d\n",
        "\n",
        "print(\"Here is your equation:\")\n",
        "display(Math(\"y = \" + latex(y)))\n",
        "\n",
        "\n",
        "# Only change code above this line\n",
        "import math_code_test_c as test\n",
        "test.step05(In[-1].split('# Only change code above this line')[0])"
      ],
      "execution_count": null,
      "outputs": [
        {
          "output_type": "stream",
          "name": "stdout",
          "text": [
            "Enter coefficient A: 2\n",
            "Enter coefficient B: 3\n",
            "Enter coefficient C: 5\n",
            "Enter coefficient D: 6\n",
            "Here is your equation:\n"
          ]
        },
        {
          "output_type": "display_data",
          "data": {
            "text/plain": [
              "<IPython.core.display.Math object>"
            ],
            "text/latex": "$\\displaystyle y = 2 x^{3} + 3 x^{2} + 5 x + 6$"
          },
          "metadata": {}
        },
        {
          "output_type": "stream",
          "name": "stdout",
          "text": [
            " \n",
            "Code test passed\n",
            "Go on to the next step\n"
          ]
        }
      ]
    },
    {
      "cell_type": "markdown",
      "metadata": {
        "id": "yoavB8H_ljVn"
      },
      "source": [
        "# Step 6 - Interactive Polynomial Graph"
      ]
    },
    {
      "cell_type": "markdown",
      "metadata": {
        "id": "3yk-TKO6ljVo"
      },
      "source": [
        "For this polynomial, y = ax<sup>2</sup> + bx + c, you can move the sliders to adjust the coefficients and see how that affects the graph. Notice how the `f()` function takes two arguments and the `interactive()` function defines two sliders. Run this code and interact with it. Then add the third coefficient (\"c\") by changing three things: the `def` line so that the function takes three arguments, the `plt.plot` line so that it includes \"+ c\", and the `interactive` line to include a third slider."
      ]
    },
    {
      "cell_type": "code",
      "metadata": {
        "id": "sOecWXLOljVo",
        "colab": {
          "base_uri": "https://localhost:8080/",
          "height": 583,
          "referenced_widgets": [
            "94e345907b124503b7c6b315fdf04def",
            "0df6b625e87f4425a9a63d72c65dfa7e",
            "af751861ee6c4674b9ceb0af6cad1916",
            "fe938d31303645579168770880179390",
            "326fed0a18614ab2a9aba80941ae90b2",
            "7c1eb1d1ed424b54aa922cb1692bf359",
            "0fa8757cfb8f4089b9ff40d839e78445",
            "1d16d3ad2ce44f87b5a9a5be431391f8",
            "9edef178a4784096bd7591b614cdc61e",
            "bb6981833bff4ac68bb76cfb1c58819e",
            "5a2cb5d8fd9a42058891206ee17c3449",
            "8e6f5aeeaa6a4837b18183eecd867585",
            "1fa5d70342814cb586b9e1b4e61b52cb"
          ]
        },
        "outputId": "a2406b87-6803-40d7-9304-203f4674db8a"
      },
      "source": [
        "%matplotlib inline\n",
        "from ipywidgets import interactive\n",
        "import matplotlib.pyplot as plt\n",
        "import numpy as np\n",
        "\n",
        "# Change the next line:\n",
        "def f(a, b, c):\n",
        "    plt.axis([-10,10,-10,10]) # window size\n",
        "    plt.plot([-10,10],[0,0],'k') # blue x axis\n",
        "    plt.plot([0,0],[-10,10], 'k') # blue y axis\n",
        "    x = np.linspace(-10, 10, 200)\n",
        "    plt.plot(x, a*x**2+b*x+c) # Change this line\n",
        "    plt.show()\n",
        "\n",
        "# Change the next line:\n",
        "interactive_plot = interactive(f, a=(-9, 9), b=(-9, 9), c=(-9, 9))\n",
        "display(interactive_plot)\n",
        "\n",
        "\n",
        "# Only change code above this line\n",
        "import math_code_test_c as test\n",
        "test.step06(In[-1].split('# Only change code above this line')[0])"
      ],
      "execution_count": null,
      "outputs": [
        {
          "output_type": "display_data",
          "data": {
            "text/plain": [
              "interactive(children=(IntSlider(value=0, description='a', max=9, min=-9), IntSlider(value=0, description='b', …"
            ],
            "application/vnd.jupyter.widget-view+json": {
              "version_major": 2,
              "version_minor": 0,
              "model_id": "94e345907b124503b7c6b315fdf04def"
            }
          },
          "metadata": {}
        },
        {
          "output_type": "stream",
          "name": "stdout",
          "text": [
            " \n",
            "Code test passed\n",
            "Go on to the next step\n"
          ]
        }
      ]
    },
    {
      "cell_type": "markdown",
      "metadata": {
        "id": "MlRfYVIylkQf"
      },
      "source": [
        "# Step 7 - Exponential Functions"
      ]
    },
    {
      "cell_type": "markdown",
      "metadata": {
        "id": "H16dtXc0lkQg"
      },
      "source": [
        "The general formula for an `exponential function` is $y = a*b^{x}$ (where `a` and `b` are constants and `x` is the variable in the exponent). The shape of exponential graphs, especially when not drawn to scale, are very consistent, so the numerical values are more important to calculate. Things that grow exponentially include populations, investments, and other \"percent increase\" situations. Run this code and use the sliders to see the slight changes. Notice the scale. Then change the slider so that `a` has negative values from -9 to -1 and see how that changes the graph."
      ]
    },
    {
      "cell_type": "code",
      "metadata": {
        "id": "8KIMFu7LlkQg",
        "colab": {
          "base_uri": "https://localhost:8080/",
          "height": 551,
          "referenced_widgets": [
            "dda00d539488483ab25b28b03838126c",
            "cf5b7ed3ceb34d0c9b14d88e87d15d4e",
            "b0fd5ff89eed4568afa84a70689d8121",
            "ea433a11bc4d41f9a09304539731dda4",
            "a368e006a6d049b69edc5694387b126a",
            "0d9c7cd55d2b48f3a46ab5e4e889aa55",
            "fd438ff1faf14bf49338ef59c92de552",
            "83dd516ad80c44e997736bf85e7f3574",
            "809b4f72902746719544ac3c595f5ab6",
            "e8ee8d0d141e466eb26cd252910cbb5c"
          ]
        },
        "outputId": "7928e50d-8016-4104-c982-b0d0d711d135"
      },
      "source": [
        "%matplotlib inline\n",
        "from ipywidgets import interactive\n",
        "import matplotlib.pyplot as plt\n",
        "import numpy as np\n",
        "\n",
        "xmin = -10\n",
        "xmax = 10\n",
        "ymin = -100\n",
        "ymax = 100\n",
        "\n",
        "def f(a, b):\n",
        "    plt.axis([xmin,xmax,ymin,ymax]) # window size\n",
        "    plt.plot([xmin,xmax],[0,0],'k') # x axis\n",
        "    plt.plot([0,0],[ymin,ymax], 'k') # y axis\n",
        "    x = np.linspace(xmin, xmax, 1000)\n",
        "    plt.plot(x, a*b**x)\n",
        "    plt.show()\n",
        "\n",
        "# Only change the next line:\n",
        "interactive_plot = interactive(f, a=(-9, -1), b=(1, 9))\n",
        "display(interactive_plot)\n",
        "\n",
        "\n",
        "# Only change code above this line\n",
        "import math_code_test_c as test\n",
        "test.step07(In[-1].split('# Only change code above this line')[0])"
      ],
      "execution_count": null,
      "outputs": [
        {
          "output_type": "display_data",
          "data": {
            "text/plain": [
              "interactive(children=(IntSlider(value=-5, description='a', max=-1, min=-9), IntSlider(value=5, description='b'…"
            ],
            "application/vnd.jupyter.widget-view+json": {
              "version_major": 2,
              "version_minor": 0,
              "model_id": "dda00d539488483ab25b28b03838126c"
            }
          },
          "metadata": {}
        },
        {
          "output_type": "stream",
          "name": "stdout",
          "text": [
            " \n",
            "Code test passed\n",
            "Go on to the next step\n"
          ]
        }
      ]
    },
    {
      "cell_type": "markdown",
      "metadata": {
        "id": "NGH1FcttllvS"
      },
      "source": [
        "# Step 8 - Percent Increase"
      ]
    },
    {
      "cell_type": "markdown",
      "metadata": {
        "id": "KLKYiioGllvT"
      },
      "source": [
        "One formula for calculating a percent increase is <b>A = P(1 + r)<sup>t</sup></b> where `A` would be the `y` value on a graph and `t` would be the `x` value. `A` is the <i>annuity</i>, which is the amount you have at the end. `P` is the <i>principle</i>, which is the amount you have at the beginning. `R` (usually not capitalized) is the <i>rate</i>, a percent converted to a decimal. The exponent `t` represents <i>time</i>, usually in years. The code already prompts for `P`, `r` and `t`, so use those variables to calculate the annuity value."
      ]
    },
    {
      "cell_type": "code",
      "metadata": {
        "id": "Vkp6zmxIllvT",
        "colab": {
          "base_uri": "https://localhost:8080/"
        },
        "outputId": "d59fcbb0-1068-4b70-96e6-d0ee6c4c16b7"
      },
      "source": [
        "p = float(input(\"Starting amount = \"))\n",
        "r = float(input(\"Enter the percentage rate, converted to a decimal: \"))\n",
        "t = float(input(\"How many years will this investment grow? \"))\n",
        "\n",
        "# Change the next line to calculate the annuity\n",
        "a = p*(1 + r)**t\n",
        "\n",
        "print(\"The annuity is \", a)\n",
        "\n",
        "\n",
        "# Only change code above this line\n",
        "import math_code_test_c as test\n",
        "test.step08(In[-1].split('# Only change code above this line')[0])"
      ],
      "execution_count": null,
      "outputs": [
        {
          "output_type": "stream",
          "name": "stdout",
          "text": [
            "Starting amount = 10\n",
            "Enter the percentage rate, converted to a decimal: 0.02\n",
            "How many years will this investment grow? 12\n",
            "The annuity is  12.682417945625454\n",
            " \n",
            "Code test passed\n",
            "Go on to the next step\n"
          ]
        }
      ]
    },
    {
      "cell_type": "markdown",
      "metadata": {
        "id": "Sx0kwIdalmmY"
      },
      "source": [
        "# Step 9 - Percent Decrease"
      ]
    },
    {
      "cell_type": "markdown",
      "metadata": {
        "id": "Wx7fXQDKlmmZ"
      },
      "source": [
        "The percent decrease formula is very similar, except you subtract the rate, so the formula is <b>A = P(1 - r)<sup>t</sup></b>. Some things that decrease by a percent include car values, decay of some elements, and sales discounts. Use the existing variables to calculate the final value (`a`)."
      ]
    },
    {
      "cell_type": "code",
      "metadata": {
        "id": "zJmQoa6YlmmZ",
        "colab": {
          "base_uri": "https://localhost:8080/"
        },
        "outputId": "23755f95-b122-48d7-b8f2-7533ff7592ff"
      },
      "source": [
        "p = float(input(\"Starting amount = \"))\n",
        "r = float(input(\"Enter the percentage rate, converted to a decimal: \"))\n",
        "t = float(input(\"How many years will this decrease continue? \"))\n",
        "\n",
        "# Change the next line to calculate the final amount\n",
        "a = p*(1 - r)**t\n",
        "\n",
        "print(\"The final amount is \", a)\n",
        "\n",
        "# Only change code above this line\n",
        "import math_code_test_c as test\n",
        "test.step09(In[-1].split('# Only change code above this line')[0])"
      ],
      "execution_count": null,
      "outputs": [
        {
          "output_type": "stream",
          "name": "stdout",
          "text": [
            "Starting amount = 10\n",
            "Enter the percentage rate, converted to a decimal: .02\n",
            "How many years will this decrease continue? 12\n",
            "The final amount is  7.847167237347998\n",
            " \n",
            "Code test passed\n",
            "Go on to the next step\n"
          ]
        }
      ]
    },
    {
      "cell_type": "markdown",
      "source": [
        "#Step 10 - Compound Interest"
      ],
      "metadata": {
        "id": "S-DVSzwDvKvE"
      }
    },
    {
      "cell_type": "markdown",
      "source": [
        "When you use percent increase formulas for money in the bank, it's called <i>compound interest</i>. The amount of money you earn beyond the original principle is the interest. When the bank calculates the interest and adds it to the principle, that process is called <i>compounding</i> and it can happen any number of times per year. The formula is <b> A = P(1 + $\\frac{r}{n}$)<sup>nt</sup></b> where <i>n</i> is the number of times the bank compounds the money per year. Notice that if n = 1 then this formula is the same as the formula from an earlier step. Write the code to calculate the annuity (hint: use extra parentheses)."
      ],
      "metadata": {
        "id": "qf181QFOvCgd"
      }
    },
    {
      "cell_type": "code",
      "source": [
        "p = float(input(\"Starting amount: \"))\n",
        "r = float(input(\"Percentage rate, converted to a decimal: \"))\n",
        "t = float(input(\"Number of years this investment will grow: \"))\n",
        "n = int(input(\"Number of times compounded per year: \"))\n",
        "\n",
        "# Change the next line to calculate the annuity\n",
        "annuity = p*(1 + (r/n))**(n*t)\n",
        "\n",
        "print(\"The annuity is \", annuity)\n",
        "\n",
        "\n",
        "# Only change code above this line\n",
        "import math_code_test_c as test\n",
        "test.step10(In[-1].split('# Only change code above this line')[0])"
      ],
      "metadata": {
        "id": "O0FAXixVvGXh",
        "colab": {
          "base_uri": "https://localhost:8080/"
        },
        "outputId": "a016751d-dde2-48ee-cac6-566102c4cfaf"
      },
      "execution_count": null,
      "outputs": [
        {
          "output_type": "stream",
          "name": "stdout",
          "text": [
            "Starting amount: 10\n",
            "Percentage rate, converted to a decimal: 0.02\n",
            "Number of years this investment will grow: 12\n",
            "Number of times compounded per year: 2\n",
            "The annuity is  12.697346485319148\n",
            " \n",
            "Code test passed\n",
            "Go on to the next step\n"
          ]
        }
      ]
    },
    {
      "cell_type": "markdown",
      "metadata": {
        "id": "H6LTAPYplxvi"
      },
      "source": [
        "# Step 11 - Continuous Growth"
      ]
    },
    {
      "cell_type": "markdown",
      "metadata": {
        "id": "5oRPxD6olxvi"
      },
      "source": [
        "In the first formula, A = P(1 + r)<sup>t</sup>, money is compounded annually.<br>\n",
        "In the second formula, A = P(1 + $\\frac{r}{n})^{nt}$, money is compounded `n` times per year.<br>\n",
        "As `n` gets to be a really big number, you get a different formula, A = Pe$^{rt}$, for continuous growth.<br>\n",
        "In this formula, `e` is a constant, about equal to 2.718281828. The following code already prompts for the four variables once. Use those variables to compare the annuity from the three formulas. Notice you need to `import math` to use `math.e` (the best approximation of e)."
      ]
    },
    {
      "cell_type": "code",
      "metadata": {
        "id": "kf3Q0Yg7lxvk",
        "colab": {
          "base_uri": "https://localhost:8080/"
        },
        "outputId": "f07dcab1-5b6f-47ae-f585-d118fd464ded"
      },
      "source": [
        "import math\n",
        "\n",
        "p = float(input(\"Principle: \"))\n",
        "r = float(input(\"Rate: \"))\n",
        "t = int(input(\"Time: \"))\n",
        "n = int(input(\"N: \"))\n",
        "\n",
        "# Only change the following three formulas:\n",
        "a_annual = p*(1+r)**t\n",
        "a_n_times = p*(1+r/n)**(n*t)\n",
        "a_continuous = p*math.e**(r*t) # use math.e in this formula\n",
        "\n",
        "# Only change the code above this line\n",
        "\n",
        "print(\"Compounded annually, anuity = \", a_annual)\n",
        "print(\"Compounded \", n, \"times per year, anuity = \", a_n_times)\n",
        "print(\"Compounded continuously, anuity = \", a_continuous)\n",
        "\n",
        "\n",
        "# Only change code above this line\n",
        "import math_code_test_c as test\n",
        "test.step11(In[-1].split('# Only change code above this line')[0])"
      ],
      "execution_count": null,
      "outputs": [
        {
          "output_type": "stream",
          "name": "stdout",
          "text": [
            "Principle: 23\n",
            "Rate: 23\n",
            "Time: 1\n",
            "N: 43\n",
            "Compounded annually, anuity =  552.0\n",
            "Compounded  43 times per year, anuity =  2306606302.761172\n",
            "Compounded continuously, anuity =  224130479263.72446\n",
            " \n",
            "Code test passed\n",
            "Go on to the next step\n"
          ]
        }
      ]
    },
    {
      "cell_type": "markdown",
      "metadata": {
        "id": "iaEBltZXln-Q"
      },
      "source": [
        "# Step 12 - Investments"
      ]
    },
    {
      "cell_type": "markdown",
      "source": [
        "If you have an investment where you contrubute money every month and the value also increases by a consistent percentage, you can create a loop to calculate the accumulated value. In each iteration, use the <i>simple interest</i> formula: interest = principle * rate * time. (Hint: for one month, t = $\\frac{1}{12}$ or you can just divide by 12.)"
      ],
      "metadata": {
        "id": "JTQ9uZw3UeGT"
      }
    },
    {
      "cell_type": "code",
      "metadata": {
        "id": "t7sRzH5Oln-R",
        "colab": {
          "base_uri": "https://localhost:8080/"
        },
        "outputId": "d23b93ac-eb4b-4b2a-d4f8-97f65d798d9b"
      },
      "source": [
        "p = float(input(\"Starting amount: \"))\n",
        "r = float(input(\"Annual percentage rate: \"))\n",
        "t = int(input(\"Number of years: \"))\n",
        "monthly = float(input(\"Monthly contribution: \"))\n",
        "\n",
        "# Hint: keep updating this annuity variable in the loop\n",
        "annuity = p\n",
        "\n",
        "# Each iteration of the loop represents one month\n",
        "for a in range(12*t):\n",
        "    annuity = annuity + monthly\n",
        "    # Change the next line to calculate the interest\n",
        "    interest = annuity * r / 12\n",
        "    annuity = annuity + interest\n",
        "\n",
        "# Keep this line:\n",
        "print(\"Annuity = \", annuity)\n",
        "\n",
        "\n",
        "# Only change code above this line\n",
        "import math_code_test_c as test\n",
        "test.step12(p,r,t,monthly,annuity)"
      ],
      "execution_count": null,
      "outputs": [
        {
          "output_type": "stream",
          "name": "stdout",
          "text": [
            "Starting amount: 12\n",
            "Annual percentage rate: 23\n",
            "Number of years: 12\n",
            "Monthly contribution: 12\n",
            "Annuity =  2.6581553527389526e+68\n",
            " \n",
            "Code test passed\n",
            "Go on to the next step\n"
          ]
        }
      ]
    },
    {
      "cell_type": "markdown",
      "metadata": {
        "id": "l5GwlqRdlpEu"
      },
      "source": [
        "# Step 13 - Mortgage Payments"
      ]
    },
    {
      "cell_type": "markdown",
      "metadata": {
        "id": "50OH4hj8lpEv"
      },
      "source": [
        "When borrowing a large amount of money over a long period of time, the formula to calculate monthly payments gets complicated. Here it is:<br>\n",
        " monthly payment = P$\\frac{\\frac{r}{12}(1 + \\frac{r}{12})^{12t}}{(1 + \\frac{r}{12})^{12t} - 1}$ where, as usual, `P` is the principle, `r` is the annual interest rate (as a decimal), and  `t` is the time in years. Write the code to prompt for these variables and calculate the monthly payment. Hint: Use other variables and do this in steps."
      ]
    },
    {
      "cell_type": "code",
      "metadata": {
        "id": "E5X8_WbnlpEv",
        "colab": {
          "base_uri": "https://localhost:8080/"
        },
        "outputId": "113f662c-2672-4c11-8926-8b3daa5dd3c8"
      },
      "source": [
        "p = float(input(\"Amount borrowed: \"))\n",
        "r = float(input(\"Annual percentage rate: \"))\n",
        "t = float(input(\"Number of years: \"))\n",
        "\n",
        "# Write your code here and change the pmt variable\n",
        "\n",
        "rm = r/12\n",
        "dt = 12*t\n",
        "pmt = p*(rm*(1+rm)**dt)/((1+rm)**dt - 1)\n",
        "\n",
        "\n",
        "print(\"Monthly payment = $\", pmt)\n",
        "\n",
        "\n",
        "# Only change code above this line\n",
        "import math_code_test_c as test\n",
        "test.step13(p,r,t,pmt)"
      ],
      "execution_count": null,
      "outputs": [
        {
          "output_type": "stream",
          "name": "stdout",
          "text": [
            "Amount borrowed: 10\n",
            "Annual percentage rate: 0.2\n",
            "Number of years: 12\n",
            "Monthly payment = $ 0.18366085450708453\n",
            " \n",
            "Code test passed\n",
            "Go on to the next step\n"
          ]
        }
      ]
    },
    {
      "cell_type": "markdown",
      "metadata": {
        "id": "8vdTo36Pl0yv"
      },
      "source": [
        "# Step 14 - Exponents and Logarithms"
      ]
    },
    {
      "cell_type": "markdown",
      "metadata": {
        "id": "gyMju8CVl0yw"
      },
      "source": [
        "Exponential functions and logarithmic functions are inverses of each other. Here is an example: <b>2<sup>4</sup> = 16</b> and <b>log<sub>2</sub>16 = 4</b>. Both have the same information rearranged in different ways. If you had 2<sup>4</sup> = x you would be able to do that easily, but if you had 2<sup>x</sup> = 16 it would be more difficult. You could write that last equation as a logarithm: log<sub>2</sub>16 = x. In Python, you would write this as `math.log(16,2)`. In both cases, you would read it as \"the log, base 2, of 16\" and the answer would be an exponent. The logarithm is especially useful when the exponent is not a nice integer. Write code to prompt for the base and the result, then use logarithms to calculate the exponent."
      ]
    },
    {
      "cell_type": "code",
      "metadata": {
        "id": "ehtA_ATbl0yw",
        "colab": {
          "base_uri": "https://localhost:8080/"
        },
        "outputId": "534eb889-771a-4be2-d120-17934175a78a"
      },
      "source": [
        "import math\n",
        "\n",
        "base = float(input(\"base: \"))\n",
        "result = float(input(\"result: \"))\n",
        "\n",
        "# Just change the next line:\n",
        "exp = math.log(result, base)\n",
        "\n",
        "print(\"exponent = \", exp)\n",
        "\n",
        "\n",
        "# Only change code above this line\n",
        "import math_code_test_c as test\n",
        "test.step14(In[-1].split('# Only change code above this line')[0])"
      ],
      "execution_count": null,
      "outputs": [
        {
          "output_type": "stream",
          "name": "stdout",
          "text": [
            "base: 12\n",
            "result: 2\n",
            "exponent =  0.2789429456511298\n",
            " \n",
            "Code test passed\n",
            "Go on to the next step\n"
          ]
        }
      ]
    },
    {
      "cell_type": "markdown",
      "metadata": {
        "id": "U_7bv7aG4UJe"
      },
      "source": [
        "# Step 15 - Natural Logs"
      ]
    },
    {
      "cell_type": "markdown",
      "metadata": {
        "id": "uKjifZw04UJe"
      },
      "source": [
        "If you know the rate, how long will it take for something to double?\n",
        "Start with the continuous growth formula:<br>\n",
        "A = Pe<sup>rt</sup><br>\n",
        "If annuity is two times the principle, divide both sides by P\n",
        "and get this:<br>\n",
        "2 = e<sup>rt</sup><br>\n",
        "Because of the base <i>e</i>, take the natural log of both sides and get this:<br>\n",
        "ln(2) = rt<br>\n",
        "Then divide by r to solve for t or divide by t to solve for r. In Python, use `math.log()` with one argument and no base to calculate natural log (which is a logarithm with base e). So the natural log of 2 is `math.log(2)`. Just run the code to see this example."
      ]
    },
    {
      "cell_type": "code",
      "metadata": {
        "id": "dM3RxByK4UJe",
        "colab": {
          "base_uri": "https://localhost:8080/"
        },
        "outputId": "33573cb9-6325-4a99-cc7b-f43c4a922b03"
      },
      "source": [
        "import math\n",
        "\n",
        "r = float(input(\"Enter the annual rate as a decimal: \\n\"))\n",
        "t = math.log(2)/r\n",
        "print(\"Your money will double in \", t, \" years\")\n",
        "\n",
        "\n",
        "# Just run this code\n",
        "import math_code_test_c as test\n",
        "test.step00()"
      ],
      "execution_count": null,
      "outputs": [
        {
          "output_type": "stream",
          "name": "stdout",
          "text": [
            "Enter the annual rate as a decimal: \n",
            "0.5\n",
            "Your money will double in  1.3862943611198906  years\n",
            "Code test passed\n",
            "Go on to the next step\n"
          ]
        }
      ]
    },
    {
      "cell_type": "markdown",
      "metadata": {
        "id": "B7DOz9nh4XAb"
      },
      "source": [
        "# Step 16 - Common Logs"
      ]
    },
    {
      "cell_type": "markdown",
      "metadata": {
        "id": "MD3dH5yF4XAb"
      },
      "source": [
        "The <i>common log</i> is base 10, because that is our number system. Run this code a few times to see how the exponents relate to moving the decimal point to get the resulting number. Notice the floor function. Then take out the floor function to see the exact logarithm."
      ]
    },
    {
      "cell_type": "code",
      "metadata": {
        "id": "n390hG0GcEXI",
        "colab": {
          "base_uri": "https://localhost:8080/"
        },
        "outputId": "896541b3-5df4-4f2c-aac5-5ccbd84ac682"
      },
      "source": [
        "import math\n",
        "\n",
        "n = input('Enter a number with several digits or several decimal places: ')\n",
        "n = float(n)\n",
        "\n",
        "\n",
        "# Rund the code then change the next line:\n",
        "exp = math.log(n, 10)\n",
        "\n",
        "# This avoids a weird Python quirk:\n",
        "if n==1000:\n",
        "    exp = 3\n",
        "\n",
        "print(\"exponent = \", exp)\n",
        "\n",
        "\n",
        "# Only change code above this line\n",
        "import math_code_test_c as test\n",
        "test.step16(In[-1].split('# Only change code above this line')[0])"
      ],
      "execution_count": null,
      "outputs": [
        {
          "output_type": "stream",
          "name": "stdout",
          "text": [
            "Enter a number with several digits or several decimal places: 12\n",
            "exponent =  1.0791812460476247\n",
            " \n",
            "Code test passed\n",
            "Go on to the next step\n"
          ]
        }
      ]
    },
    {
      "cell_type": "markdown",
      "metadata": {
        "id": "cqvLtj7t4VMN"
      },
      "source": [
        "# Step 17 - Scientific Notation"
      ]
    },
    {
      "cell_type": "markdown",
      "metadata": {
        "id": "-Uh4YmRt4VMN"
      },
      "source": [
        "<i>Scientific Notation</i> is a way of writing very large or very small numbers without all of the zeros or decimal places. For example, 45,000,000 could be written as 4.5 x 10<sup>7</sup> in scientific notation and 0.00000045 could be written as 4.5 x 10<sup>-7</sup>. The notation requires base 10, so it will always use the structure <b>n $*$ 10<sup>x</sup></b> where n is one digit then the decimal point. Change the code below to print each number in scientific notation. Determine the value of each variable by counting (not writing code). You will automate this process in the next step."
      ]
    },
    {
      "cell_type": "code",
      "metadata": {
        "id": "UyPF6dKz4VMO",
        "colab": {
          "base_uri": "https://localhost:8080/"
        },
        "outputId": "dd616e54-0ddb-419c-cdf2-dd3a4aa7e47b"
      },
      "source": [
        "a = 156000000000\n",
        "b = 0.000000000413\n",
        "\n",
        "# Change the code below this line\n",
        "\n",
        "a1 = 1.56\n",
        "a2 = 11\n",
        "b1 = 4.13\n",
        "b2 = -10\n",
        "\n",
        "print(a, \" = \", a1, \"* 10^\", a2)\n",
        "\n",
        "print(b, \" = \", b1, \"* 10^\", b2)\n",
        "\n",
        "\n",
        "# Only change code above this line\n",
        "import math_code_test_c as test\n",
        "test.step17(b1,b2)"
      ],
      "execution_count": null,
      "outputs": [
        {
          "output_type": "stream",
          "name": "stdout",
          "text": [
            "156000000000  =  1.56 * 10^ 11\n",
            "4.13e-10  =  4.13 * 10^ -10\n",
            " \n",
            "Code test passed\n",
            "Go on to the next step\n"
          ]
        }
      ]
    },
    {
      "cell_type": "markdown",
      "metadata": {
        "id": "GsLj1NhZl1ya"
      },
      "source": [
        "#Step 18 - Logs and Scientific Notation"
      ]
    },
    {
      "cell_type": "markdown",
      "metadata": {
        "id": "uhWbIGVml1yb"
      },
      "source": [
        "Writing code for scientific notation, you will make use of logarithms with base 10. Remember that scientific notation is in the form n $*$ 10<sup>x</sup> where `n` is one digit and then a decimal. To convert a number to scientific notation, take the log of the number and use the `floor()` function to get the expoenent (just as you did in a previous step). Divide the original number by 10 to that exponent and you get `n` (hint: dividing by 10<sup>x</sup> is the same as multiplying by 10<sup>-x</sup>). Rounding is usually necessary. Write the code to convert numbers to scientific notation."
      ]
    },
    {
      "cell_type": "code",
      "metadata": {
        "id": "y8PXrFCYl1yb",
        "colab": {
          "base_uri": "https://localhost:8080/"
        },
        "outputId": "6d240ed4-ffbd-46ef-b13a-1fd847ee5f95"
      },
      "source": [
        "import math\n",
        "\n",
        "a = .00000000000234\n",
        "b = 12300000000000\n",
        "\n",
        "# Use these three lines as a model\n",
        "x1 = math.floor(math.log(a,10))\n",
        "n1 = round(a*10**(-x1),2)\n",
        "print(\"a = \", n1, \"* 10^\", x1)\n",
        "\n",
        "# Change the next two lines to match the model\n",
        "x2 = math.floor(math.log(b, 10))\n",
        "n2 = round(b*10**(-x2),2)\n",
        "print(\"b = \", n2, \"* 10^\", x2)\n",
        "\n",
        "\n",
        "\n",
        "# Only change code above this line\n",
        "import math_code_test_c as test\n",
        "test.step18(In[-1].split('# Only change code above this line')[0])"
      ],
      "execution_count": null,
      "outputs": [
        {
          "output_type": "stream",
          "name": "stdout",
          "text": [
            "a =  2.34 * 10^ -12\n",
            "b =  1.23 * 10^ 13\n",
            " \n",
            "Code test passed\n",
            "Go on to the next step\n"
          ]
        }
      ]
    },
    {
      "cell_type": "markdown",
      "metadata": {
        "id": "d7Lc9KfMYU8Y"
      },
      "source": [
        "# Step 19 - Scientific Notation Conversion"
      ]
    },
    {
      "cell_type": "markdown",
      "metadata": {
        "id": "21gdVKfeYc5R"
      },
      "source": [
        "Now ask for a number as input, and write the code to convert that number into scientific notation. You can re-use code you used in the previous step, using `n` and `x` as variables to print n * 10^x."
      ]
    },
    {
      "cell_type": "code",
      "metadata": {
        "id": "VkOkpmrP4XAb",
        "colab": {
          "base_uri": "https://localhost:8080/"
        },
        "outputId": "af70383d-04a4-48ce-b432-ce2b23f047d7"
      },
      "source": [
        "import math\n",
        "\n",
        "a = float(input('Enter a number to convert to scientific notation: '))\n",
        "\n",
        "# write your code here\n",
        "x = math.floor(math.log(a,10))\n",
        "n = round(a*10**(-x),2)\n",
        "print(f'{a} = {n} * 10 ^ {x}')\n",
        "\n",
        "# Only change code above this line\n",
        "import math_code_test_c as test\n",
        "test.step19(In[-1].split('# Only change code above this line')[0])"
      ],
      "execution_count": null,
      "outputs": [
        {
          "output_type": "stream",
          "name": "stdout",
          "text": [
            "Enter a number to convert to scientific notation: 12000\n",
            "12000.0 = 1.2 * 10 ^ 4\n",
            " \n",
            "Code test passed\n",
            "Go on to the next step\n"
          ]
        }
      ]
    },
    {
      "cell_type": "markdown",
      "metadata": {
        "id": "VkD30ljxlyw9"
      },
      "source": [
        "# Step 20 - Graphing Exponents and Logs"
      ]
    },
    {
      "cell_type": "markdown",
      "metadata": {
        "id": "A7YL0fIdlyw-"
      },
      "source": [
        "When not writing code, the <i>natural log</i> is written as \"ln\" and it means a logarithm with base e. Like any pair of inverse functions, the line y = e<sup>x</sup> and the line y = ln(x) are mirrored over the line y = x.  Because of the `np.linspace()` function in this code, `np.log()` works, but `math.log()` does not work here. Both log() functions in Python use e as the base by default. When using the `numpy` library, use `np.log10()` for base 10, `np.log2()` for base 2, etc. Because log functions can only have positive x values, the np.linspace() function will define a positive range for the log() function. Run this code, then change the blue line function to graph y = 2<sup>x</sup> and change the green line function to graph y = log<sub>2</sub>x and notice the similarities between the graphs."
      ]
    },
    {
      "cell_type": "code",
      "metadata": {
        "id": "fJiDmoW1lyw_",
        "colab": {
          "base_uri": "https://localhost:8080/",
          "height": 487
        },
        "outputId": "a796a490-ecff-4431-d243-a2807d553271"
      },
      "source": [
        "import matplotlib.pyplot as plt\n",
        "import numpy as np\n",
        "import math\n",
        "\n",
        "xmin = -10\n",
        "xmax = 10\n",
        "ymin = -10\n",
        "ymax = 10\n",
        "plt.axis([xmin,xmax,ymin,ymax]) # window size\n",
        "plt.plot([xmin,xmax],[0,0],'k') # x axis\n",
        "plt.plot([0,0],[ymin,ymax], 'k') # y axis\n",
        "\n",
        "# Same x values for two lines\n",
        "x1 = np.linspace(xmin, xmax, 1000)\n",
        "\n",
        "# Blue line for y = e^x\n",
        "plt.plot(x1, 2**x1, 'b')  # Change this line\n",
        "\n",
        "# Red line for y = x\n",
        "plt.plot(x1, x1, 'r')\n",
        "\n",
        "# Different x values for y = log(x) because x > 0\n",
        "x2 = np.linspace(.001, xmax, 500)\n",
        "\n",
        "# Green line for y = log(x)\n",
        "plt.plot(x2, np.log2(x2), 'g')  # Change this line\n",
        "\n",
        "plt.show()\n",
        "\n",
        "\n",
        "# Only change code above this line\n",
        "import math_code_test_c as test\n",
        "test.step20(In[-1].split('# Only change code above this line')[0])"
      ],
      "execution_count": null,
      "outputs": [
        {
          "output_type": "display_data",
          "data": {
            "text/plain": [
              "<Figure size 640x480 with 1 Axes>"
            ],
            "image/png": "[encoded data removed]"
          },
          "metadata": {}
        },
        {
          "output_type": "stream",
          "name": "stdout",
          "text": [
            " \n",
            "Code test passed\n",
            "Go on to the next step\n"
          ]
        }
      ]
    },
    {
      "cell_type": "markdown",
      "metadata": {
        "id": "bJzxcKIfz8Qt"
      },
      "source": [
        "# Step 21 - Log Application - pH Scale"
      ]
    },
    {
      "cell_type": "markdown",
      "metadata": {
        "id": "pfF3voqSz8Q9"
      },
      "source": [
        "The pH scale, for measuring acids and bases, is a logarithmic scale. The negative log of the hydrogen concentration is the pH. Example: if the hydrogen concentration is .007 then that would be 7 * 10<sup>-3</sup> and therefore a pH of 3. Write the code to prompt for hydrogen concentration and then print the pH. Hint: the <i>ceiling</i> function (`math.ceil()`) works better than rounding here."
      ]
    },
    {
      "cell_type": "code",
      "metadata": {
        "id": "tepkvSubz8Q9",
        "colab": {
          "base_uri": "https://localhost:8080/"
        },
        "outputId": "34d12a79-d551-46df-b0c4-10fc20e8facc"
      },
      "source": [
        "import math\n",
        "\n",
        "decimal = float(input(\"Enter the hydrogen concentration as a decimal number: \"))\n",
        "\n",
        "# Write your code here\n",
        "h = math.ceil(-math.log(decimal, 10))\n",
        "\n",
        "print(\"pH = \", h)\n",
        "\n",
        "# Only change code above this line\n",
        "import math_code_test_c as test\n",
        "test.step21(In[-1].split('# Only change code above this line')[0])"
      ],
      "execution_count": null,
      "outputs": [
        {
          "output_type": "stream",
          "name": "stdout",
          "text": [
            "Enter the hydrogen concentration as a decimal number: 0.2\n",
            "pH =  1\n",
            " \n",
            "Code test passed\n"
          ]
        }
      ]
    },
    {
      "cell_type": "markdown",
      "source": [
        "# Step 22 - Functions for the Project"
      ],
      "metadata": {
        "id": "8iWUAktvPLYp"
      }
    },
    {
      "cell_type": "markdown",
      "source": [
        "Define a function for calculating mortgage payments and a function for calculating investment balance. Use code you wrote in earlier steps. Each function should prompt for input and print the output."
      ],
      "metadata": {
        "id": "a9gRwbr-PGPC"
      }
    },
    {
      "cell_type": "code",
      "source": [
        "# Write your code here\n",
        "def mortgage_payments():\n",
        "  p = float(input('Qual é o valor pego inicialmente no empréstimo? '))\n",
        "  r = float(input('Qual a porcentagem de juros anual? '))\n",
        "  t = float(input('Quanto tempo em anos teras que pagar o empréstimo? '))\n",
        "\n",
        "  rm = r/12\n",
        "  dt = 12*t\n",
        "\n",
        "  pagamento_mensal = round(p*rm/(1 - (1 + rm)**-dt), 2)\n",
        "  pagamento_total = pagamento_mensal*dt\n",
        "\n",
        "  return f'Você pagara ao todo {pagamento_total}, sendo que por mês pagara {pagamento_mensal}'\n",
        "\n",
        "\n",
        "\n",
        "def investment_balance():\n",
        "  p = float(input('Qual é o valor ganho? '))\n",
        "  g = float(input('Qual foi o valor investido? '))\n",
        "  r = float(input('Qual a porcentagem dos gastos neste periodo? '))\n",
        "\n",
        "  lucro = p*(1-r)\n",
        "  per = round(lucro/g, 4)\n",
        "\n",
        "  return f'Você tera um retorno de {per * 100}% do valor inicial, ou seja R${round(p*per, 2)}'\n",
        "# This step does not have a test"
      ],
      "metadata": {
        "id": "neFvvCOzO_WB"
      },
      "execution_count": 1,
      "outputs": []
    },
    {
      "cell_type": "markdown",
      "source": [
        "# Step 23 - More Functions"
      ],
      "metadata": {
        "id": "rzaQj8dEOfzb"
      }
    },
    {
      "cell_type": "markdown",
      "source": [
        "Create a function that produces an interactive polynomial graph (with sliders). Use code from an earlier step."
      ],
      "metadata": {
        "id": "C6OV8KzQOTS_"
      }
    },
    {
      "cell_type": "code",
      "source": [
        "import matplotlib.pyplot as plt\n",
        "import numpy as np\n",
        "from ipywidgets import interactive, IntSlider, FloatSlider\n",
        "from IPython.display import display\n",
        "\n",
        "def polynomial_graph(quantity=3):\n",
        "\n",
        "  def rest(**coefficients):\n",
        "    plt.figure(figsize=(8, 6))\n",
        "    plt.axis([-10, 10, -10, 10])\n",
        "    plt.plot([-10,10],[0,0], 'black')\n",
        "    plt.plot([0,0],[-10,10], 'black')\n",
        "\n",
        "    x = np.linspace(-10, 10, 200)\n",
        "\n",
        "    # Extract coefficients from the dictionary\n",
        "    coeff_values = [coefficients.get(f'coef_{i}', 0.0) for i in range(quantity)]\n",
        "\n",
        "    # Evaluate the polynomial and plot\n",
        "    y = np.polyval(coeff_values, x)\n",
        "    plt.plot(x, y, 'b', label=f'Degree {quantity}')\n",
        "\n",
        "    plt.legend()\n",
        "    plt.show()\n",
        "\n",
        "  coeff_widgets = {f'coef_{i}': IntSlider(value=0, min=-10, max=10) for i in range(quantity)}\n",
        "  display(interactive(rest, **coeff_widgets))\n",
        "\n",
        "# Crie o gráfico interativo\n",
        "interactive_plot = interactive(polynomial_graph, quantity=(3, 9))\n",
        "\n",
        "# Exiba os widgets\n",
        "display(interactive_plot)"
      ],
      "metadata": {
        "colab": {
          "base_uri": "https://localhost:8080/",
          "height": 688,
          "referenced_widgets": [
            "9b1c64e37cfe4aa3889800f686dc2423",
            "851de234b0f04aa490dec693900586d0",
            "c978118d82bb409bad9f479ccc0580bb",
            "00f6ebe68d9245578f5897a161524231",
            "580fe4658471479abd3ac9e6a70bb467",
            "71ece85862534986bdb7481e7928a77a",
            "e1d482d33e8f485c8468cb3de5187ea8",
            "1b6cf2c462af43a186fb03574d5d6935",
            "33414eafb9d343498a6391030d9231be",
            "741c077faf0845f289647a5cb56dd38e",
            "5cd12add96f24fe1a9d9c04dd8f35864",
            "fa561953f6b54402a90715c4838aed7c",
            "dd949a99157a45fabce000675aa1a5d5",
            "0370377535d94474ae1adb3969b039e7",
            "3e4763bc09834c66a3c8e3317a632936",
            "89e38d944d604128b8b6f4fde06d1988",
            "601b96603431474daf6cfda261baac66",
            "748bfde05cfb4a3baa48bce3d133ab30",
            "5d008132980c47748491a1ad3c1b8dcc",
            "5b584d48741d42b48fdb202bb3c1d78b",
            "1aecf7c4ec6642e8aba263fc0d6a4ef7",
            "6c6d438bcb5048febd17c070346f87ba",
            "17d1bf79ed7f46318d20025f418f8830",
            "f6bc5254a01e4eae8b5f198e9d3ffcc9",
            "cc54dda7d8a3447b90e756ccb7becefc",
            "d4c232dd3f33495da139e3488e8d6e65",
            "7c36def6005f417585966746e2662422",
            "035eac316d61464aab57e74bac3cd8ad",
            "0952085c87984621a4af45f1053cb2b2",
            "80320dd2dd6247a78aaeb1d98b557d20",
            "8e7291cffba4428984624e9f37a922d2",
            "e025b6a9b90a40f88e1e5c01ad3f7637",
            "1131e3223621461792d256915648c64d",
            "c52414f93e40431e8792e6d0d949d642",
            "9b70433b510e48f180187a3ac09f935e",
            "f678d664a8064f59a7bc4f5a50e546fd"
          ]
        },
        "id": "jiYFfflXIHxz",
        "outputId": "fc62a59e-40cc-4ff3-91cb-3c880b3726d3"
      },
      "execution_count": 2,
      "outputs": [
        {
          "output_type": "display_data",
          "data": {
            "text/plain": [
              "interactive(children=(IntSlider(value=3, description='quantity', max=9, min=3), Output()), _dom_classes=('widg…"
            ],
            "application/vnd.jupyter.widget-view+json": {
              "version_major": 2,
              "version_minor": 0,
              "model_id": "9b1c64e37cfe4aa3889800f686dc2423"
            }
          },
          "metadata": {}
        }
      ]
    },
    {
      "cell_type": "markdown",
      "source": [
        "# Step 24 - New Function"
      ],
      "metadata": {
        "id": "UptjjiCOTSS2"
      }
    },
    {
      "cell_type": "markdown",
      "source": [
        "Create a function to print the time required for money to double, given the rate. Use the continuous growth formula from an earlier step."
      ],
      "metadata": {
        "id": "XKXNbHzGTKAp"
      }
    },
    {
      "cell_type": "code",
      "source": [
        "# Write your code here\n",
        "import math\n",
        "\n",
        "def double():\n",
        "  r = float(input('O valor aumenta quantos porcento por periodo? '))\n",
        "  return f'Vai demorar {round(math.log(2)/r, 2)} periodos para esse valor dobrar'\n",
        "# This step does not have a test"
      ],
      "metadata": {
        "id": "kWs_IpxrTYyl"
      },
      "execution_count": 3,
      "outputs": []
    },
    {
      "cell_type": "markdown",
      "source": [
        "# Step 25 - Certification Project 3"
      ],
      "metadata": {
        "id": "CRa5i8s3UCuL"
      }
    },
    {
      "cell_type": "markdown",
      "source": [
        "Build a financial app that calculates all of the following:<br>\n",
        "<ul>\n",
        "<li>Mortgage payment - given principle, rate, time</li>\n",
        "<li>Retirement account balance at time of retirement</li>\n",
        "<li>Time required for money to double - given the rate</li>\n",
        "<li>Rate of growth - given starting value, time, and ending value</li>\n",
        "</ul>"
      ],
      "metadata": {
        "id": "nngVpvqeT4U7"
      }
    },
    {
      "cell_type": "code",
      "source": [
        "# Write your code here\n",
        "import math\n",
        "\n",
        "class Financial_calculator():\n",
        "  def __init__(self):\n",
        "    pass\n",
        "\n",
        "  def mortgage_payment(self):\n",
        "    return mortgage_payments()\n",
        "\n",
        "  def account_balance(self):\n",
        "    # Tentei pesquisar como a aposentadoria funciona, mas não entendi,\n",
        "    # então ai está meio que um chute do calculo, por mais que sei que ele\n",
        "    # funciona a partir do salario minimo, então não deve ser exatamente assim\n",
        "\n",
        "    entrada = float(input('Quanto é botato na aposentadoria por mês? '))\n",
        "    tempo = float(input('Quantos anos faltam para a aposentadoria? '))*12\n",
        "    r = float(input('Quantos porcento você recebera no final do valor acumulado por mês? '))\n",
        "\n",
        "    return f'Quando se aposentar recebera R${round(entrada*tempo*r, 2)} por mês'\n",
        "\n",
        "  def double_money(self):\n",
        "    return double()\n",
        "\n",
        "  def rate_of_growth(self):\n",
        "    start = float(input('Qual foi o valor inicial? '))\n",
        "    end = float(input('Qual foi o valor final? '))\n",
        "    time = float(input('Quantos periodos houve entre o valor inicial e o final? '))\n",
        "    r = (end/start)**(1/time) - 1\n",
        "\n",
        "    return f'O valor creceu/diminuiu {round(r, 2) * 100}% por periodo'"
      ],
      "metadata": {
        "id": "fa2o--pDT-Sd"
      },
      "execution_count": 4,
      "outputs": []
    }
  ]
}